{
  "nbformat": 4,
  "nbformat_minor": 0,
  "metadata": {
    "colab": {
      "name": "cedmo.ipynb",
      "provenance": [],
      "collapsed_sections": [],
      "include_colab_link": true
    },
    "kernelspec": {
      "name": "python3",
      "display_name": "Python 3"
    },
    "language_info": {
      "name": "python"
    }
  },
  "cells": [
    {
      "cell_type": "markdown",
      "metadata": {
        "id": "view-in-github",
        "colab_type": "text"
      },
      "source": [
        "<a href=\"https://colab.research.google.com/github/ChamisaE/-project-name-/blob/master/cedmo.ipynb\" target=\"_parent\"><img src=\"https://colab.research.google.com/assets/colab-badge.svg\" alt=\"Open In Colab\"/></a>"
      ]
    },
    {
      "cell_type": "code",
      "metadata": {
        "id": "XP9jtywVXIHz"
      },
      "source": [
        "import pandas as pd\n",
        "import numpy as np\n",
        "import matplotlib.pyplot as plt\n",
        "import seaborn as sns"
      ],
      "execution_count": null,
      "outputs": []
    },
    {
      "cell_type": "code",
      "metadata": {
        "colab": {
          "base_uri": "https://localhost:8080/"
        },
        "id": "ARkz16-hXSRV",
        "outputId": "c2810b76-80af-4cbf-ec53-3fb914180769"
      },
      "source": [
        "from google.colab import drive\n",
        "drive.mount('/content/drive')"
      ],
      "execution_count": null,
      "outputs": [
        {
          "output_type": "stream",
          "text": [
            "Mounted at /content/drive\n"
          ],
          "name": "stdout"
        }
      ]
    },
    {
      "cell_type": "markdown",
      "metadata": {
        "id": "xsBL7a5bcOKR"
      },
      "source": [
        "importing city csv"
      ]
    },
    {
      "cell_type": "code",
      "metadata": {
        "id": "aO4V4EnAXVHz"
      },
      "source": [
        "city_df = pd.read_csv(\"/content/drive/My Drive/Copy_of_cities.csv\")"
      ],
      "execution_count": null,
      "outputs": []
    },
    {
      "cell_type": "code",
      "metadata": {
        "colab": {
          "base_uri": "https://localhost:8080/",
          "height": 419
        },
        "id": "aCoeUJDzbkaI",
        "outputId": "c724ef1c-83d5-49b7-bb6a-edf50c3e0066"
      },
      "source": [
        "city_df"
      ],
      "execution_count": null,
      "outputs": [
        {
          "output_type": "execute_result",
          "data": {
            "text/html": [
              "<div>\n",
              "<style scoped>\n",
              "    .dataframe tbody tr th:only-of-type {\n",
              "        vertical-align: middle;\n",
              "    }\n",
              "\n",
              "    .dataframe tbody tr th {\n",
              "        vertical-align: top;\n",
              "    }\n",
              "\n",
              "    .dataframe thead th {\n",
              "        text-align: right;\n",
              "    }\n",
              "</style>\n",
              "<table border=\"1\" class=\"dataframe\">\n",
              "  <thead>\n",
              "    <tr style=\"text-align: right;\">\n",
              "      <th></th>\n",
              "      <th>id</th>\n",
              "      <th>name</th>\n",
              "      <th>coords</th>\n",
              "      <th>start_year</th>\n",
              "      <th>url_name</th>\n",
              "      <th>country</th>\n",
              "      <th>country_state</th>\n",
              "    </tr>\n",
              "  </thead>\n",
              "  <tbody>\n",
              "    <tr>\n",
              "      <th>0</th>\n",
              "      <td>5</td>\n",
              "      <td>Aberdeen</td>\n",
              "      <td>POINT(-2.15 57.15)</td>\n",
              "      <td>2017.0</td>\n",
              "      <td>aberdeen</td>\n",
              "      <td>Scotland</td>\n",
              "      <td>NaN</td>\n",
              "    </tr>\n",
              "    <tr>\n",
              "      <th>1</th>\n",
              "      <td>6</td>\n",
              "      <td>Adelaide</td>\n",
              "      <td>POINT(138.6 -34.91666667)</td>\n",
              "      <td>2017.0</td>\n",
              "      <td>adelaide</td>\n",
              "      <td>Australia</td>\n",
              "      <td>NaN</td>\n",
              "    </tr>\n",
              "    <tr>\n",
              "      <th>2</th>\n",
              "      <td>7</td>\n",
              "      <td>Algiers</td>\n",
              "      <td>POINT(3 36.83333333)</td>\n",
              "      <td>2017.0</td>\n",
              "      <td>algiers</td>\n",
              "      <td>Algeria</td>\n",
              "      <td>NaN</td>\n",
              "    </tr>\n",
              "    <tr>\n",
              "      <th>3</th>\n",
              "      <td>9</td>\n",
              "      <td>Ankara</td>\n",
              "      <td>POINT(32.91666667 39.91666667)</td>\n",
              "      <td>2017.0</td>\n",
              "      <td>ankara</td>\n",
              "      <td>Turkey</td>\n",
              "      <td>NaN</td>\n",
              "    </tr>\n",
              "    <tr>\n",
              "      <th>4</th>\n",
              "      <td>16</td>\n",
              "      <td>Belém</td>\n",
              "      <td>POINT(-48.48333333 -1.466666667)</td>\n",
              "      <td>2017.0</td>\n",
              "      <td>belem</td>\n",
              "      <td>Brazil</td>\n",
              "      <td>NaN</td>\n",
              "    </tr>\n",
              "    <tr>\n",
              "      <th>...</th>\n",
              "      <td>...</td>\n",
              "      <td>...</td>\n",
              "      <td>...</td>\n",
              "      <td>...</td>\n",
              "      <td>...</td>\n",
              "      <td>...</td>\n",
              "      <td>...</td>\n",
              "    </tr>\n",
              "    <tr>\n",
              "      <th>329</th>\n",
              "      <td>265</td>\n",
              "      <td>Nantes</td>\n",
              "      <td>POINT(-1.553889 47.217222)</td>\n",
              "      <td>1877.0</td>\n",
              "      <td>nantes</td>\n",
              "      <td>France</td>\n",
              "      <td>NaN</td>\n",
              "    </tr>\n",
              "    <tr>\n",
              "      <th>330</th>\n",
              "      <td>110</td>\n",
              "      <td>Stockholm</td>\n",
              "      <td>POINT(18.05 59.28333333)</td>\n",
              "      <td>1919.0</td>\n",
              "      <td>stockholm</td>\n",
              "      <td>Sweden</td>\n",
              "      <td>NaN</td>\n",
              "    </tr>\n",
              "    <tr>\n",
              "      <th>331</th>\n",
              "      <td>266</td>\n",
              "      <td>Rennes</td>\n",
              "      <td>POINT(-1.680833 48.114167)</td>\n",
              "      <td>1897.0</td>\n",
              "      <td>rennes</td>\n",
              "      <td>France</td>\n",
              "      <td>NaN</td>\n",
              "    </tr>\n",
              "    <tr>\n",
              "      <th>332</th>\n",
              "      <td>15</td>\n",
              "      <td>Beijing</td>\n",
              "      <td>POINT(116.4166667 39.91666667)</td>\n",
              "      <td>1965.0</td>\n",
              "      <td>beijing</td>\n",
              "      <td>China</td>\n",
              "      <td>NaN</td>\n",
              "    </tr>\n",
              "    <tr>\n",
              "      <th>333</th>\n",
              "      <td>69</td>\n",
              "      <td>London</td>\n",
              "      <td>POINT(-0.08333333333 51.53333333)</td>\n",
              "      <td>1833.0</td>\n",
              "      <td>london</td>\n",
              "      <td>England</td>\n",
              "      <td>NaN</td>\n",
              "    </tr>\n",
              "  </tbody>\n",
              "</table>\n",
              "<p>334 rows × 7 columns</p>\n",
              "</div>"
            ],
            "text/plain": [
              "      id       name  ...    country  country_state\n",
              "0      5   Aberdeen  ...   Scotland            NaN\n",
              "1      6   Adelaide  ...  Australia            NaN\n",
              "2      7    Algiers  ...    Algeria            NaN\n",
              "3      9     Ankara  ...     Turkey            NaN\n",
              "4     16      Belém  ...     Brazil            NaN\n",
              "..   ...        ...  ...        ...            ...\n",
              "329  265     Nantes  ...     France            NaN\n",
              "330  110  Stockholm  ...     Sweden            NaN\n",
              "331  266     Rennes  ...     France            NaN\n",
              "332   15    Beijing  ...      China            NaN\n",
              "333   69     London  ...    England            NaN\n",
              "\n",
              "[334 rows x 7 columns]"
            ]
          },
          "metadata": {
            "tags": []
          },
          "execution_count": 5
        }
      ]
    },
    {
      "cell_type": "markdown",
      "metadata": {
        "id": "OfrUI3qaad_2"
      },
      "source": [
        "Get df details\n"
      ]
    },
    {
      "cell_type": "code",
      "metadata": {
        "id": "NikpHIk1i8b2",
        "colab": {
          "base_uri": "https://localhost:8080/"
        },
        "outputId": "f6a9e7e2-b2a3-4dc8-f2dc-6f344e6189b2"
      },
      "source": [
        "city_df.info()"
      ],
      "execution_count": null,
      "outputs": [
        {
          "output_type": "stream",
          "text": [
            "<class 'pandas.core.frame.DataFrame'>\n",
            "RangeIndex: 334 entries, 0 to 333\n",
            "Data columns (total 7 columns):\n",
            " #   Column         Non-Null Count  Dtype  \n",
            "---  ------         --------------  -----  \n",
            " 0   id             334 non-null    int64  \n",
            " 1   name           334 non-null    object \n",
            " 2   coords         334 non-null    object \n",
            " 3   start_year     331 non-null    float64\n",
            " 4   url_name       334 non-null    object \n",
            " 5   country        334 non-null    object \n",
            " 6   country_state  134 non-null    object \n",
            "dtypes: float64(1), int64(1), object(5)\n",
            "memory usage: 18.4+ KB\n"
          ],
          "name": "stdout"
        }
      ]
    },
    {
      "cell_type": "markdown",
      "metadata": {
        "id": "rHeqmXRoanRS"
      },
      "source": [
        "Delete start year column\n"
      ]
    },
    {
      "cell_type": "code",
      "metadata": {
        "id": "YlxR1AgnacEv"
      },
      "source": [
        "del city_df['start_year']"
      ],
      "execution_count": null,
      "outputs": []
    },
    {
      "cell_type": "code",
      "metadata": {
        "colab": {
          "base_uri": "https://localhost:8080/"
        },
        "id": "fUQZnIIpbi3m",
        "outputId": "9d062cf8-cfd7-4406-f011-2c8fac0763e0"
      },
      "source": [
        "city_df.info()"
      ],
      "execution_count": null,
      "outputs": [
        {
          "output_type": "stream",
          "text": [
            "<class 'pandas.core.frame.DataFrame'>\n",
            "RangeIndex: 334 entries, 0 to 333\n",
            "Data columns (total 6 columns):\n",
            " #   Column         Non-Null Count  Dtype \n",
            "---  ------         --------------  ----- \n",
            " 0   id             334 non-null    int64 \n",
            " 1   name           334 non-null    object\n",
            " 2   coords         334 non-null    object\n",
            " 3   url_name       334 non-null    object\n",
            " 4   country        334 non-null    object\n",
            " 5   country_state  134 non-null    object\n",
            "dtypes: int64(1), object(5)\n",
            "memory usage: 15.8+ KB\n"
          ],
          "name": "stdout"
        }
      ]
    },
    {
      "cell_type": "markdown",
      "metadata": {
        "id": "6x6LHZdAkPRs"
      },
      "source": [
        "Filled nan with \"no state\" to drop later."
      ]
    },
    {
      "cell_type": "code",
      "metadata": {
        "colab": {
          "base_uri": "https://localhost:8080/",
          "height": 419
        },
        "id": "XOIQcHXVkH8t",
        "outputId": "74da4b77-8f36-426d-eacb-1388af23a6b3"
      },
      "source": [
        "city_df.fillna('no state')"
      ],
      "execution_count": null,
      "outputs": [
        {
          "output_type": "execute_result",
          "data": {
            "text/html": [
              "<div>\n",
              "<style scoped>\n",
              "    .dataframe tbody tr th:only-of-type {\n",
              "        vertical-align: middle;\n",
              "    }\n",
              "\n",
              "    .dataframe tbody tr th {\n",
              "        vertical-align: top;\n",
              "    }\n",
              "\n",
              "    .dataframe thead th {\n",
              "        text-align: right;\n",
              "    }\n",
              "</style>\n",
              "<table border=\"1\" class=\"dataframe\">\n",
              "  <thead>\n",
              "    <tr style=\"text-align: right;\">\n",
              "      <th></th>\n",
              "      <th>id</th>\n",
              "      <th>name</th>\n",
              "      <th>coords</th>\n",
              "      <th>url_name</th>\n",
              "      <th>country</th>\n",
              "      <th>country_state</th>\n",
              "    </tr>\n",
              "  </thead>\n",
              "  <tbody>\n",
              "    <tr>\n",
              "      <th>0</th>\n",
              "      <td>5</td>\n",
              "      <td>Aberdeen</td>\n",
              "      <td>POINT(-2.15 57.15)</td>\n",
              "      <td>aberdeen</td>\n",
              "      <td>Scotland</td>\n",
              "      <td>no state</td>\n",
              "    </tr>\n",
              "    <tr>\n",
              "      <th>1</th>\n",
              "      <td>6</td>\n",
              "      <td>Adelaide</td>\n",
              "      <td>POINT(138.6 -34.91666667)</td>\n",
              "      <td>adelaide</td>\n",
              "      <td>Australia</td>\n",
              "      <td>no state</td>\n",
              "    </tr>\n",
              "    <tr>\n",
              "      <th>2</th>\n",
              "      <td>7</td>\n",
              "      <td>Algiers</td>\n",
              "      <td>POINT(3 36.83333333)</td>\n",
              "      <td>algiers</td>\n",
              "      <td>Algeria</td>\n",
              "      <td>no state</td>\n",
              "    </tr>\n",
              "    <tr>\n",
              "      <th>3</th>\n",
              "      <td>9</td>\n",
              "      <td>Ankara</td>\n",
              "      <td>POINT(32.91666667 39.91666667)</td>\n",
              "      <td>ankara</td>\n",
              "      <td>Turkey</td>\n",
              "      <td>no state</td>\n",
              "    </tr>\n",
              "    <tr>\n",
              "      <th>4</th>\n",
              "      <td>16</td>\n",
              "      <td>Belém</td>\n",
              "      <td>POINT(-48.48333333 -1.466666667)</td>\n",
              "      <td>belem</td>\n",
              "      <td>Brazil</td>\n",
              "      <td>no state</td>\n",
              "    </tr>\n",
              "    <tr>\n",
              "      <th>...</th>\n",
              "      <td>...</td>\n",
              "      <td>...</td>\n",
              "      <td>...</td>\n",
              "      <td>...</td>\n",
              "      <td>...</td>\n",
              "      <td>...</td>\n",
              "    </tr>\n",
              "    <tr>\n",
              "      <th>329</th>\n",
              "      <td>265</td>\n",
              "      <td>Nantes</td>\n",
              "      <td>POINT(-1.553889 47.217222)</td>\n",
              "      <td>nantes</td>\n",
              "      <td>France</td>\n",
              "      <td>no state</td>\n",
              "    </tr>\n",
              "    <tr>\n",
              "      <th>330</th>\n",
              "      <td>110</td>\n",
              "      <td>Stockholm</td>\n",
              "      <td>POINT(18.05 59.28333333)</td>\n",
              "      <td>stockholm</td>\n",
              "      <td>Sweden</td>\n",
              "      <td>no state</td>\n",
              "    </tr>\n",
              "    <tr>\n",
              "      <th>331</th>\n",
              "      <td>266</td>\n",
              "      <td>Rennes</td>\n",
              "      <td>POINT(-1.680833 48.114167)</td>\n",
              "      <td>rennes</td>\n",
              "      <td>France</td>\n",
              "      <td>no state</td>\n",
              "    </tr>\n",
              "    <tr>\n",
              "      <th>332</th>\n",
              "      <td>15</td>\n",
              "      <td>Beijing</td>\n",
              "      <td>POINT(116.4166667 39.91666667)</td>\n",
              "      <td>beijing</td>\n",
              "      <td>China</td>\n",
              "      <td>no state</td>\n",
              "    </tr>\n",
              "    <tr>\n",
              "      <th>333</th>\n",
              "      <td>69</td>\n",
              "      <td>London</td>\n",
              "      <td>POINT(-0.08333333333 51.53333333)</td>\n",
              "      <td>london</td>\n",
              "      <td>England</td>\n",
              "      <td>no state</td>\n",
              "    </tr>\n",
              "  </tbody>\n",
              "</table>\n",
              "<p>334 rows × 6 columns</p>\n",
              "</div>"
            ],
            "text/plain": [
              "      id       name  ...    country country_state\n",
              "0      5   Aberdeen  ...   Scotland      no state\n",
              "1      6   Adelaide  ...  Australia      no state\n",
              "2      7    Algiers  ...    Algeria      no state\n",
              "3      9     Ankara  ...     Turkey      no state\n",
              "4     16      Belém  ...     Brazil      no state\n",
              "..   ...        ...  ...        ...           ...\n",
              "329  265     Nantes  ...     France      no state\n",
              "330  110  Stockholm  ...     Sweden      no state\n",
              "331  266     Rennes  ...     France      no state\n",
              "332   15    Beijing  ...      China      no state\n",
              "333   69     London  ...    England      no state\n",
              "\n",
              "[334 rows x 6 columns]"
            ]
          },
          "metadata": {
            "tags": []
          },
          "execution_count": 20
        }
      ]
    },
    {
      "cell_type": "markdown",
      "metadata": {
        "id": "8MemRaEFhn9e"
      },
      "source": [
        "turning current version city into csv"
      ]
    },
    {
      "cell_type": "code",
      "metadata": {
        "id": "QGZ1ZsyQhq5X"
      },
      "source": [
        "city_df.to_csv('city_clean.csv')\n"
      ],
      "execution_count": null,
      "outputs": []
    },
    {
      "cell_type": "markdown",
      "metadata": {
        "id": "UBN408gPcH6s"
      },
      "source": [
        "importing systems csv"
      ]
    },
    {
      "cell_type": "code",
      "metadata": {
        "id": "rg4YAjnpcMCF"
      },
      "source": [
        "system_df = pd.read_csv(\"/content/drive/My Drive/Copy_of_systems.csv\")"
      ],
      "execution_count": null,
      "outputs": []
    },
    {
      "cell_type": "markdown",
      "metadata": {
        "id": "ySxvO4f4dPjD"
      },
      "source": [
        "Getting info on system data- going to keep all columns."
      ]
    },
    {
      "cell_type": "code",
      "metadata": {
        "colab": {
          "base_uri": "https://localhost:8080/"
        },
        "id": "TBdVhF_ycpix",
        "outputId": "9f88d6a9-a5bc-4e0a-efdb-3db50649b451"
      },
      "source": [
        "system_df.info()"
      ],
      "execution_count": null,
      "outputs": [
        {
          "output_type": "stream",
          "text": [
            "<class 'pandas.core.frame.DataFrame'>\n",
            "RangeIndex: 488 entries, 0 to 487\n",
            "Data columns (total 3 columns):\n",
            " #   Column   Non-Null Count  Dtype \n",
            "---  ------   --------------  ----- \n",
            " 0   id       488 non-null    int64 \n",
            " 1   city_id  488 non-null    int64 \n",
            " 2   name     287 non-null    object\n",
            "dtypes: int64(2), object(1)\n",
            "memory usage: 11.6+ KB\n"
          ],
          "name": "stdout"
        }
      ]
    },
    {
      "cell_type": "markdown",
      "metadata": {
        "id": "sk1t95dRghad"
      },
      "source": [
        "drop nan rows from table"
      ]
    },
    {
      "cell_type": "code",
      "metadata": {
        "colab": {
          "base_uri": "https://localhost:8080/",
          "height": 669
        },
        "id": "akS_meUlgMLF",
        "outputId": "1c75c22d-2374-4e68-a1f9-b72196eed1db"
      },
      "source": [
        "system_df.head(20)"
      ],
      "execution_count": null,
      "outputs": [
        {
          "output_type": "execute_result",
          "data": {
            "text/html": [
              "<div>\n",
              "<style scoped>\n",
              "    .dataframe tbody tr th:only-of-type {\n",
              "        vertical-align: middle;\n",
              "    }\n",
              "\n",
              "    .dataframe tbody tr th {\n",
              "        vertical-align: top;\n",
              "    }\n",
              "\n",
              "    .dataframe thead th {\n",
              "        text-align: right;\n",
              "    }\n",
              "</style>\n",
              "<table border=\"1\" class=\"dataframe\">\n",
              "  <thead>\n",
              "    <tr style=\"text-align: right;\">\n",
              "      <th></th>\n",
              "      <th>id</th>\n",
              "      <th>city_id</th>\n",
              "      <th>name</th>\n",
              "    </tr>\n",
              "  </thead>\n",
              "  <tbody>\n",
              "    <tr>\n",
              "      <th>0</th>\n",
              "      <td>1</td>\n",
              "      <td>5</td>\n",
              "      <td>NaN</td>\n",
              "    </tr>\n",
              "    <tr>\n",
              "      <th>1</th>\n",
              "      <td>2</td>\n",
              "      <td>6</td>\n",
              "      <td>NaN</td>\n",
              "    </tr>\n",
              "    <tr>\n",
              "      <th>2</th>\n",
              "      <td>3</td>\n",
              "      <td>7</td>\n",
              "      <td>NaN</td>\n",
              "    </tr>\n",
              "    <tr>\n",
              "      <th>3</th>\n",
              "      <td>4</td>\n",
              "      <td>8</td>\n",
              "      <td>NaN</td>\n",
              "    </tr>\n",
              "    <tr>\n",
              "      <th>4</th>\n",
              "      <td>5</td>\n",
              "      <td>9</td>\n",
              "      <td>NaN</td>\n",
              "    </tr>\n",
              "    <tr>\n",
              "      <th>5</th>\n",
              "      <td>6</td>\n",
              "      <td>16</td>\n",
              "      <td>NaN</td>\n",
              "    </tr>\n",
              "    <tr>\n",
              "      <th>6</th>\n",
              "      <td>7</td>\n",
              "      <td>10</td>\n",
              "      <td>NaN</td>\n",
              "    </tr>\n",
              "    <tr>\n",
              "      <th>7</th>\n",
              "      <td>8</td>\n",
              "      <td>11</td>\n",
              "      <td>NaN</td>\n",
              "    </tr>\n",
              "    <tr>\n",
              "      <th>8</th>\n",
              "      <td>9</td>\n",
              "      <td>12</td>\n",
              "      <td>NaN</td>\n",
              "    </tr>\n",
              "    <tr>\n",
              "      <th>9</th>\n",
              "      <td>10</td>\n",
              "      <td>13</td>\n",
              "      <td>NaN</td>\n",
              "    </tr>\n",
              "    <tr>\n",
              "      <th>10</th>\n",
              "      <td>11</td>\n",
              "      <td>17</td>\n",
              "      <td>NaN</td>\n",
              "    </tr>\n",
              "    <tr>\n",
              "      <th>11</th>\n",
              "      <td>12</td>\n",
              "      <td>18</td>\n",
              "      <td>NaN</td>\n",
              "    </tr>\n",
              "    <tr>\n",
              "      <th>12</th>\n",
              "      <td>14</td>\n",
              "      <td>20</td>\n",
              "      <td>NaN</td>\n",
              "    </tr>\n",
              "    <tr>\n",
              "      <th>13</th>\n",
              "      <td>15</td>\n",
              "      <td>22</td>\n",
              "      <td>NaN</td>\n",
              "    </tr>\n",
              "    <tr>\n",
              "      <th>14</th>\n",
              "      <td>17</td>\n",
              "      <td>24</td>\n",
              "      <td>NaN</td>\n",
              "    </tr>\n",
              "    <tr>\n",
              "      <th>15</th>\n",
              "      <td>18</td>\n",
              "      <td>25</td>\n",
              "      <td>NaN</td>\n",
              "    </tr>\n",
              "    <tr>\n",
              "      <th>16</th>\n",
              "      <td>19</td>\n",
              "      <td>26</td>\n",
              "      <td>NaN</td>\n",
              "    </tr>\n",
              "    <tr>\n",
              "      <th>17</th>\n",
              "      <td>21</td>\n",
              "      <td>28</td>\n",
              "      <td>NaN</td>\n",
              "    </tr>\n",
              "    <tr>\n",
              "      <th>18</th>\n",
              "      <td>23</td>\n",
              "      <td>30</td>\n",
              "      <td>NaN</td>\n",
              "    </tr>\n",
              "    <tr>\n",
              "      <th>19</th>\n",
              "      <td>24</td>\n",
              "      <td>31</td>\n",
              "      <td>NaN</td>\n",
              "    </tr>\n",
              "  </tbody>\n",
              "</table>\n",
              "</div>"
            ],
            "text/plain": [
              "    id  city_id name\n",
              "0    1        5  NaN\n",
              "1    2        6  NaN\n",
              "2    3        7  NaN\n",
              "3    4        8  NaN\n",
              "4    5        9  NaN\n",
              "5    6       16  NaN\n",
              "6    7       10  NaN\n",
              "7    8       11  NaN\n",
              "8    9       12  NaN\n",
              "9   10       13  NaN\n",
              "10  11       17  NaN\n",
              "11  12       18  NaN\n",
              "12  14       20  NaN\n",
              "13  15       22  NaN\n",
              "14  17       24  NaN\n",
              "15  18       25  NaN\n",
              "16  19       26  NaN\n",
              "17  21       28  NaN\n",
              "18  23       30  NaN\n",
              "19  24       31  NaN"
            ]
          },
          "metadata": {
            "tags": []
          },
          "execution_count": 12
        }
      ]
    },
    {
      "cell_type": "code",
      "metadata": {
        "id": "RbROXgFUgpgd"
      },
      "source": [
        "#system_df.dropna(how='all')"
      ],
      "execution_count": null,
      "outputs": []
    },
    {
      "cell_type": "code",
      "metadata": {
        "colab": {
          "base_uri": "https://localhost:8080/"
        },
        "id": "VBz7Grq_g78l",
        "outputId": "57b7eaa1-f49b-4fbe-cf44-f37fb5e981c8"
      },
      "source": [
        "system_df.info()"
      ],
      "execution_count": null,
      "outputs": [
        {
          "output_type": "stream",
          "text": [
            "<class 'pandas.core.frame.DataFrame'>\n",
            "RangeIndex: 488 entries, 0 to 487\n",
            "Data columns (total 3 columns):\n",
            " #   Column   Non-Null Count  Dtype \n",
            "---  ------   --------------  ----- \n",
            " 0   id       488 non-null    int64 \n",
            " 1   city_id  488 non-null    int64 \n",
            " 2   name     287 non-null    object\n",
            "dtypes: int64(2), object(1)\n",
            "memory usage: 11.6+ KB\n"
          ],
          "name": "stdout"
        }
      ]
    },
    {
      "cell_type": "code",
      "metadata": {
        "colab": {
          "base_uri": "https://localhost:8080/",
          "height": 419
        },
        "id": "dGH6Zh2Ce-Hy",
        "outputId": "36fd0bdd-43c7-491d-c818-770796eeff36"
      },
      "source": [
        "system_df.fillna('no transit system name')"
      ],
      "execution_count": null,
      "outputs": [
        {
          "output_type": "execute_result",
          "data": {
            "text/html": [
              "<div>\n",
              "<style scoped>\n",
              "    .dataframe tbody tr th:only-of-type {\n",
              "        vertical-align: middle;\n",
              "    }\n",
              "\n",
              "    .dataframe tbody tr th {\n",
              "        vertical-align: top;\n",
              "    }\n",
              "\n",
              "    .dataframe thead th {\n",
              "        text-align: right;\n",
              "    }\n",
              "</style>\n",
              "<table border=\"1\" class=\"dataframe\">\n",
              "  <thead>\n",
              "    <tr style=\"text-align: right;\">\n",
              "      <th></th>\n",
              "      <th>id</th>\n",
              "      <th>city_id</th>\n",
              "      <th>name</th>\n",
              "    </tr>\n",
              "  </thead>\n",
              "  <tbody>\n",
              "    <tr>\n",
              "      <th>0</th>\n",
              "      <td>1</td>\n",
              "      <td>5</td>\n",
              "      <td>no transit system name</td>\n",
              "    </tr>\n",
              "    <tr>\n",
              "      <th>1</th>\n",
              "      <td>2</td>\n",
              "      <td>6</td>\n",
              "      <td>no transit system name</td>\n",
              "    </tr>\n",
              "    <tr>\n",
              "      <th>2</th>\n",
              "      <td>3</td>\n",
              "      <td>7</td>\n",
              "      <td>no transit system name</td>\n",
              "    </tr>\n",
              "    <tr>\n",
              "      <th>3</th>\n",
              "      <td>4</td>\n",
              "      <td>8</td>\n",
              "      <td>no transit system name</td>\n",
              "    </tr>\n",
              "    <tr>\n",
              "      <th>4</th>\n",
              "      <td>5</td>\n",
              "      <td>9</td>\n",
              "      <td>no transit system name</td>\n",
              "    </tr>\n",
              "    <tr>\n",
              "      <th>...</th>\n",
              "      <td>...</td>\n",
              "      <td>...</td>\n",
              "      <td>...</td>\n",
              "    </tr>\n",
              "    <tr>\n",
              "      <th>483</th>\n",
              "      <td>460</td>\n",
              "      <td>114</td>\n",
              "      <td>Moka Railway</td>\n",
              "    </tr>\n",
              "    <tr>\n",
              "      <th>484</th>\n",
              "      <td>411</td>\n",
              "      <td>114</td>\n",
              "      <td>Ryutetsu</td>\n",
              "    </tr>\n",
              "    <tr>\n",
              "      <th>485</th>\n",
              "      <td>334</td>\n",
              "      <td>114</td>\n",
              "      <td>Tokyo Tama Intercity Monorail</td>\n",
              "    </tr>\n",
              "    <tr>\n",
              "      <th>486</th>\n",
              "      <td>316</td>\n",
              "      <td>114</td>\n",
              "      <td>Tokyo Waterfront Area Rapid Transit</td>\n",
              "    </tr>\n",
              "    <tr>\n",
              "      <th>487</th>\n",
              "      <td>462</td>\n",
              "      <td>114</td>\n",
              "      <td>Utsunomiya Light Rail Company</td>\n",
              "    </tr>\n",
              "  </tbody>\n",
              "</table>\n",
              "<p>488 rows × 3 columns</p>\n",
              "</div>"
            ],
            "text/plain": [
              "      id  city_id                                 name\n",
              "0      1        5               no transit system name\n",
              "1      2        6               no transit system name\n",
              "2      3        7               no transit system name\n",
              "3      4        8               no transit system name\n",
              "4      5        9               no transit system name\n",
              "..   ...      ...                                  ...\n",
              "483  460      114                         Moka Railway\n",
              "484  411      114                             Ryutetsu\n",
              "485  334      114        Tokyo Tama Intercity Monorail\n",
              "486  316      114  Tokyo Waterfront Area Rapid Transit\n",
              "487  462      114        Utsunomiya Light Rail Company\n",
              "\n",
              "[488 rows x 3 columns]"
            ]
          },
          "metadata": {
            "tags": []
          },
          "execution_count": 22
        }
      ]
    },
    {
      "cell_type": "markdown",
      "metadata": {
        "id": "U87UyDiRhhwB"
      },
      "source": [
        "Turn current version of systems into csv"
      ]
    },
    {
      "cell_type": "code",
      "metadata": {
        "id": "XxKCk6upe_qq"
      },
      "source": [
        "system_df.to_csv('system_clean.csv')\n"
      ],
      "execution_count": null,
      "outputs": []
    },
    {
      "cell_type": "code",
      "metadata": {
        "id": "0pv1Wqhlkxd6"
      },
      "source": [
        ""
      ],
      "execution_count": null,
      "outputs": []
    }
  ]
}