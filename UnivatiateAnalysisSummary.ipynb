{
  "nbformat": 4,
  "nbformat_minor": 0,
  "metadata": {
    "colab": {
      "name": "UnivatiateAnalysisSummary.ipynb",
      "provenance": [],
      "collapsed_sections": [
        "D0xix4CTBxi2",
        "OwnoVKn_C2w-",
        "Pcrcf2rjE12B",
        "WeLud4QZFZz-",
        "y7ZK1GxjGtbj",
        "MemOwevF2fHk",
        "8C2KcFhZ2kS_",
        "3ZTkTm7g2oiy",
        "h2eRcg0525Lb",
        "yUmLMzl-2-jM",
        "HZLykJkm3Jgm",
        "DIHxqdBA3NCV",
        "BMyzAPka3YxK",
        "zf01Dmcr3hxs",
        "gS9b41PF3qON",
        "agwsZuj230u0",
        "bxw6qgbL34D9",
        "54rUIaij3_Tz",
        "7b6y7_Pn4FWq",
        "c0CydLVw4Mwu",
        "O2Xs3ymc4Vto",
        "Q2CMfL6N4bKu",
        "_S9FZhDQ4zDF",
        "qM2MpQRw415A",
        "OhwyqkUH48cf",
        "Yo3hWNmF5Ffa"
      ],
      "authorship_tag": "ABX9TyNcWlHt5bUFGgadziocmOK0",
      "include_colab_link": true
    },
    "kernelspec": {
      "name": "python3",
      "display_name": "Python 3"
    },
    "language_info": {
      "name": "python"
    }
  },
  "cells": [
    {
      "cell_type": "markdown",
      "metadata": {
        "id": "view-in-github",
        "colab_type": "text"
      },
      "source": [
        "<a href=\"https://colab.research.google.com/github/ChamisaE/-project-name-/blob/master/UnivatiateAnalysisSummary.ipynb\" target=\"_parent\"><img src=\"https://colab.research.google.com/assets/colab-badge.svg\" alt=\"Open In Colab\"/></a>"
      ]
    },
    {
      "cell_type": "code",
      "metadata": {
        "colab": {
          "base_uri": "https://localhost:8080/"
        },
        "id": "SeCoseVWw0De",
        "outputId": "cc51c9cf-0e77-4793-c9e8-5766cbbd6ade"
      },
      "source": [
        "from google.colab import drive\n",
        "drive.mount('/content/drive')"
      ],
      "execution_count": null,
      "outputs": [
        {
          "output_type": "stream",
          "text": [
            "Mounted at /content/drive\n"
          ],
          "name": "stdout"
        }
      ]
    },
    {
      "cell_type": "code",
      "metadata": {
        "id": "L7djkCMRw6Ji"
      },
      "source": [
        "#importing packages\n",
        "import pandas as pd\n",
        "import numpy as np\n",
        "import matplotlib\n",
        "import matplotlib.pyplot as plt\n",
        "import seaborn as sns"
      ],
      "execution_count": null,
      "outputs": []
    },
    {
      "cell_type": "code",
      "metadata": {
        "colab": {
          "base_uri": "https://localhost:8080/"
        },
        "id": "rTtJcl6PxIya",
        "outputId": "dd738a8c-0927-4c5a-ecf2-aa4f9b8e2ad0"
      },
      "source": [
        "#listing contents in team drive\n",
        "!ls \"/content/drive/My Drive/DS4A Team 114/Data Cleaning/Clean Data Sets\""
      ],
      "execution_count": null,
      "outputs": [
        {
          "output_type": "stream",
          "text": [
            " acs_df_1_of_2_clean.csv\t     merged_final_v2.csv\n",
            " acs_df_2_of_2_clean.csv\t     merged_final_v3.csv\n",
            " city_clean.csv\t\t\t     National_Walkability_cleaner.csv\n",
            "'Copy of merged_final_v3.csv'\t     Natl_Walkability_Index_Clean.csv\n",
            " final_cleaning_and_assembly.ipynb   SLD_Trans45_Clean.csv\n",
            " FoodAccess_cleaned.csv\t\t     SmartLocationdb_cleaned.csv\n",
            " merged_final.csv\t\t     system_clean.csv\n"
          ],
          "name": "stdout"
        }
      ]
    },
    {
      "cell_type": "code",
      "metadata": {
        "id": "JHG_nVd5xpAd"
      },
      "source": [
        "#loading in the most recent version of merged dataset\n",
        "df = pd.read_csv(\"/content/drive/My Drive/DS4A Team 114/Data Sets/Clean Data Sets/merged_final_v3.csv\", dtype={\"geoid\":np.str})"
      ],
      "execution_count": null,
      "outputs": []
    },
    {
      "cell_type": "code",
      "metadata": {
        "colab": {
          "base_uri": "https://localhost:8080/",
          "height": 712
        },
        "id": "E7qjvFSsx8BK",
        "outputId": "a05c8dd0-5408-436c-c829-d30e2b14bb6a"
      },
      "source": [
        "df.head()"
      ],
      "execution_count": null,
      "outputs": [
        {
          "output_type": "execute_result",
          "data": {
            "text/html": [
              "<div>\n",
              "<style scoped>\n",
              "    .dataframe tbody tr th:only-of-type {\n",
              "        vertical-align: middle;\n",
              "    }\n",
              "\n",
              "    .dataframe tbody tr th {\n",
              "        vertical-align: top;\n",
              "    }\n",
              "\n",
              "    .dataframe thead th {\n",
              "        text-align: right;\n",
              "    }\n",
              "</style>\n",
              "<table border=\"1\" class=\"dataframe\">\n",
              "  <thead>\n",
              "    <tr style=\"text-align: right;\">\n",
              "      <th></th>\n",
              "      <th>geoid</th>\n",
              "      <th>ruca_code</th>\n",
              "      <th>name</th>\n",
              "      <th>total_drove_alone</th>\n",
              "      <th>total_carpooled</th>\n",
              "      <th>total_public_trans</th>\n",
              "      <th>total_walked</th>\n",
              "      <th>total_taxi-motorcycle-bike</th>\n",
              "      <th>total_WFH</th>\n",
              "      <th>total_non-inst_pop_with_disability</th>\n",
              "      <th>totpop10_y</th>\n",
              "      <th>edu_less_than_9th_grade</th>\n",
              "      <th>edu_9th-12th_no_diploma</th>\n",
              "      <th>edu_HS_graduate</th>\n",
              "      <th>edu_some_college</th>\n",
              "      <th>edu_associates_degree</th>\n",
              "      <th>edu_bachelors_degree</th>\n",
              "      <th>edu_professional_degree</th>\n",
              "      <th>edu_HS_or_higher</th>\n",
              "      <th>edu_bach_or_higher</th>\n",
              "      <th>total_US_born</th>\n",
              "      <th>total_foreign_born</th>\n",
              "      <th>foreign_born_naturalized</th>\n",
              "      <th>foreign_born_non-citizen</th>\n",
              "      <th>travel_time_total</th>\n",
              "      <th>travel_time_10_less</th>\n",
              "      <th>travel_time_10_14</th>\n",
              "      <th>travel_time_15_19</th>\n",
              "      <th>travel_time_20_24</th>\n",
              "      <th>travel_time_25_29</th>\n",
              "      <th>travel_time_30_34</th>\n",
              "      <th>travel_time_35_44</th>\n",
              "      <th>travel_time_45_59</th>\n",
              "      <th>travel_time_60_plus</th>\n",
              "      <th>rent_median</th>\n",
              "      <th>rent_studio</th>\n",
              "      <th>rent_1bd</th>\n",
              "      <th>rent_2bd</th>\n",
              "      <th>rent_3bd</th>\n",
              "      <th>rent_4bd</th>\n",
              "      <th>...</th>\n",
              "      <th>laomultir10</th>\n",
              "      <th>laomultir10share</th>\n",
              "      <th>lahisp10</th>\n",
              "      <th>lahisp10share</th>\n",
              "      <th>lahunv10</th>\n",
              "      <th>lahunv10share</th>\n",
              "      <th>lapop20</th>\n",
              "      <th>lapop20share</th>\n",
              "      <th>lalowi20</th>\n",
              "      <th>lalowi20share</th>\n",
              "      <th>lakids20</th>\n",
              "      <th>lakids20share</th>\n",
              "      <th>laseniors20</th>\n",
              "      <th>laseniors20share</th>\n",
              "      <th>lawhite20</th>\n",
              "      <th>lawhite20share</th>\n",
              "      <th>lablack20</th>\n",
              "      <th>lablack20share</th>\n",
              "      <th>laasian20</th>\n",
              "      <th>laasian20share</th>\n",
              "      <th>lanhopi20</th>\n",
              "      <th>lanhopi20share</th>\n",
              "      <th>laaian20</th>\n",
              "      <th>laaian20share</th>\n",
              "      <th>laomultir20</th>\n",
              "      <th>laomultir20share</th>\n",
              "      <th>lahisp20</th>\n",
              "      <th>lahisp20share</th>\n",
              "      <th>lahunv20</th>\n",
              "      <th>lahunv20share</th>\n",
              "      <th>tractlowi</th>\n",
              "      <th>tractkids</th>\n",
              "      <th>tractseniors</th>\n",
              "      <th>tractwhite</th>\n",
              "      <th>tractblack</th>\n",
              "      <th>tractasian</th>\n",
              "      <th>tractnhopi</th>\n",
              "      <th>tractaian</th>\n",
              "      <th>tractomultir</th>\n",
              "      <th>tracthispanic</th>\n",
              "    </tr>\n",
              "  </thead>\n",
              "  <tbody>\n",
              "    <tr>\n",
              "      <th>0</th>\n",
              "      <td>01001020100</td>\n",
              "      <td>1.0</td>\n",
              "      <td>census tract 201, autauga county, alabama</td>\n",
              "      <td>836.0</td>\n",
              "      <td>82.0</td>\n",
              "      <td>0.0</td>\n",
              "      <td>0.0</td>\n",
              "      <td>5.0</td>\n",
              "      <td>25.0</td>\n",
              "      <td>410.0</td>\n",
              "      <td>1908.0</td>\n",
              "      <td>60.0</td>\n",
              "      <td>106.0</td>\n",
              "      <td>463.0</td>\n",
              "      <td>203.0</td>\n",
              "      <td>132.0</td>\n",
              "      <td>205.0</td>\n",
              "      <td>154.0</td>\n",
              "      <td>1157.0</td>\n",
              "      <td>359.0</td>\n",
              "      <td>940.0</td>\n",
              "      <td>8.0</td>\n",
              "      <td>0.0</td>\n",
              "      <td>8.0</td>\n",
              "      <td>NaN</td>\n",
              "      <td>NaN</td>\n",
              "      <td>NaN</td>\n",
              "      <td>NaN</td>\n",
              "      <td>NaN</td>\n",
              "      <td>NaN</td>\n",
              "      <td>NaN</td>\n",
              "      <td>NaN</td>\n",
              "      <td>NaN</td>\n",
              "      <td>NaN</td>\n",
              "      <td>749.0</td>\n",
              "      <td>NaN</td>\n",
              "      <td>NaN</td>\n",
              "      <td>726.0</td>\n",
              "      <td>696.0</td>\n",
              "      <td>NaN</td>\n",
              "      <td>...</td>\n",
              "      <td>NaN</td>\n",
              "      <td>NaN</td>\n",
              "      <td>NaN</td>\n",
              "      <td>NaN</td>\n",
              "      <td>NaN</td>\n",
              "      <td>NaN</td>\n",
              "      <td>NaN</td>\n",
              "      <td>NaN</td>\n",
              "      <td>NaN</td>\n",
              "      <td>NaN</td>\n",
              "      <td>NaN</td>\n",
              "      <td>NaN</td>\n",
              "      <td>NaN</td>\n",
              "      <td>NaN</td>\n",
              "      <td>NaN</td>\n",
              "      <td>NaN</td>\n",
              "      <td>NaN</td>\n",
              "      <td>NaN</td>\n",
              "      <td>NaN</td>\n",
              "      <td>NaN</td>\n",
              "      <td>NaN</td>\n",
              "      <td>NaN</td>\n",
              "      <td>NaN</td>\n",
              "      <td>NaN</td>\n",
              "      <td>NaN</td>\n",
              "      <td>NaN</td>\n",
              "      <td>NaN</td>\n",
              "      <td>NaN</td>\n",
              "      <td>NaN</td>\n",
              "      <td>NaN</td>\n",
              "      <td>455.0</td>\n",
              "      <td>507.0</td>\n",
              "      <td>221.0</td>\n",
              "      <td>1622.0</td>\n",
              "      <td>217.0</td>\n",
              "      <td>14.0</td>\n",
              "      <td>0.0</td>\n",
              "      <td>14.0</td>\n",
              "      <td>45.0</td>\n",
              "      <td>44.0</td>\n",
              "    </tr>\n",
              "    <tr>\n",
              "      <th>1</th>\n",
              "      <td>01001020200</td>\n",
              "      <td>1.0</td>\n",
              "      <td>census tract 202, autauga county, alabama</td>\n",
              "      <td>690.0</td>\n",
              "      <td>34.0</td>\n",
              "      <td>0.0</td>\n",
              "      <td>0.0</td>\n",
              "      <td>0.0</td>\n",
              "      <td>9.0</td>\n",
              "      <td>216.0</td>\n",
              "      <td>2170.0</td>\n",
              "      <td>37.0</td>\n",
              "      <td>171.0</td>\n",
              "      <td>646.0</td>\n",
              "      <td>240.0</td>\n",
              "      <td>69.0</td>\n",
              "      <td>184.0</td>\n",
              "      <td>56.0</td>\n",
              "      <td>1195.0</td>\n",
              "      <td>240.0</td>\n",
              "      <td>727.0</td>\n",
              "      <td>6.0</td>\n",
              "      <td>6.0</td>\n",
              "      <td>0.0</td>\n",
              "      <td>18305.0</td>\n",
              "      <td>265.0</td>\n",
              "      <td>1215.0</td>\n",
              "      <td>1065.0</td>\n",
              "      <td>1300.0</td>\n",
              "      <td>800.0</td>\n",
              "      <td>5910.0</td>\n",
              "      <td>3805.0</td>\n",
              "      <td>2745.0</td>\n",
              "      <td>1200.0</td>\n",
              "      <td>777.0</td>\n",
              "      <td>NaN</td>\n",
              "      <td>338.0</td>\n",
              "      <td>942.0</td>\n",
              "      <td>759.0</td>\n",
              "      <td>1239.0</td>\n",
              "      <td>...</td>\n",
              "      <td>NaN</td>\n",
              "      <td>NaN</td>\n",
              "      <td>NaN</td>\n",
              "      <td>NaN</td>\n",
              "      <td>NaN</td>\n",
              "      <td>NaN</td>\n",
              "      <td>NaN</td>\n",
              "      <td>NaN</td>\n",
              "      <td>NaN</td>\n",
              "      <td>NaN</td>\n",
              "      <td>NaN</td>\n",
              "      <td>NaN</td>\n",
              "      <td>NaN</td>\n",
              "      <td>NaN</td>\n",
              "      <td>NaN</td>\n",
              "      <td>NaN</td>\n",
              "      <td>NaN</td>\n",
              "      <td>NaN</td>\n",
              "      <td>NaN</td>\n",
              "      <td>NaN</td>\n",
              "      <td>NaN</td>\n",
              "      <td>NaN</td>\n",
              "      <td>NaN</td>\n",
              "      <td>NaN</td>\n",
              "      <td>NaN</td>\n",
              "      <td>NaN</td>\n",
              "      <td>NaN</td>\n",
              "      <td>NaN</td>\n",
              "      <td>NaN</td>\n",
              "      <td>NaN</td>\n",
              "      <td>802.0</td>\n",
              "      <td>606.0</td>\n",
              "      <td>214.0</td>\n",
              "      <td>888.0</td>\n",
              "      <td>1217.0</td>\n",
              "      <td>5.0</td>\n",
              "      <td>0.0</td>\n",
              "      <td>5.0</td>\n",
              "      <td>55.0</td>\n",
              "      <td>75.0</td>\n",
              "    </tr>\n",
              "    <tr>\n",
              "      <th>2</th>\n",
              "      <td>01001020300</td>\n",
              "      <td>1.0</td>\n",
              "      <td>census tract 203, autauga county, alabama</td>\n",
              "      <td>1406.0</td>\n",
              "      <td>226.0</td>\n",
              "      <td>0.0</td>\n",
              "      <td>34.0</td>\n",
              "      <td>33.0</td>\n",
              "      <td>33.0</td>\n",
              "      <td>653.0</td>\n",
              "      <td>3374.0</td>\n",
              "      <td>89.0</td>\n",
              "      <td>286.0</td>\n",
              "      <td>940.0</td>\n",
              "      <td>593.0</td>\n",
              "      <td>135.0</td>\n",
              "      <td>257.0</td>\n",
              "      <td>205.0</td>\n",
              "      <td>2130.0</td>\n",
              "      <td>462.0</td>\n",
              "      <td>1546.0</td>\n",
              "      <td>186.0</td>\n",
              "      <td>41.0</td>\n",
              "      <td>145.0</td>\n",
              "      <td>39440.0</td>\n",
              "      <td>1655.0</td>\n",
              "      <td>2900.0</td>\n",
              "      <td>2550.0</td>\n",
              "      <td>4300.0</td>\n",
              "      <td>3900.0</td>\n",
              "      <td>6780.0</td>\n",
              "      <td>4310.0</td>\n",
              "      <td>7785.0</td>\n",
              "      <td>5260.0</td>\n",
              "      <td>902.0</td>\n",
              "      <td>NaN</td>\n",
              "      <td>594.0</td>\n",
              "      <td>719.0</td>\n",
              "      <td>985.0</td>\n",
              "      <td>1154.0</td>\n",
              "      <td>...</td>\n",
              "      <td>NaN</td>\n",
              "      <td>NaN</td>\n",
              "      <td>NaN</td>\n",
              "      <td>NaN</td>\n",
              "      <td>NaN</td>\n",
              "      <td>NaN</td>\n",
              "      <td>NaN</td>\n",
              "      <td>NaN</td>\n",
              "      <td>NaN</td>\n",
              "      <td>NaN</td>\n",
              "      <td>NaN</td>\n",
              "      <td>NaN</td>\n",
              "      <td>NaN</td>\n",
              "      <td>NaN</td>\n",
              "      <td>NaN</td>\n",
              "      <td>NaN</td>\n",
              "      <td>NaN</td>\n",
              "      <td>NaN</td>\n",
              "      <td>NaN</td>\n",
              "      <td>NaN</td>\n",
              "      <td>NaN</td>\n",
              "      <td>NaN</td>\n",
              "      <td>NaN</td>\n",
              "      <td>NaN</td>\n",
              "      <td>NaN</td>\n",
              "      <td>NaN</td>\n",
              "      <td>NaN</td>\n",
              "      <td>NaN</td>\n",
              "      <td>NaN</td>\n",
              "      <td>NaN</td>\n",
              "      <td>1306.0</td>\n",
              "      <td>894.0</td>\n",
              "      <td>439.0</td>\n",
              "      <td>2576.0</td>\n",
              "      <td>647.0</td>\n",
              "      <td>17.0</td>\n",
              "      <td>5.0</td>\n",
              "      <td>11.0</td>\n",
              "      <td>117.0</td>\n",
              "      <td>87.0</td>\n",
              "    </tr>\n",
              "    <tr>\n",
              "      <th>3</th>\n",
              "      <td>01001020400</td>\n",
              "      <td>1.0</td>\n",
              "      <td>census tract 204, autauga county, alabama</td>\n",
              "      <td>1392.0</td>\n",
              "      <td>119.0</td>\n",
              "      <td>50.0</td>\n",
              "      <td>31.0</td>\n",
              "      <td>0.0</td>\n",
              "      <td>80.0</td>\n",
              "      <td>707.0</td>\n",
              "      <td>4389.0</td>\n",
              "      <td>18.0</td>\n",
              "      <td>215.0</td>\n",
              "      <td>788.0</td>\n",
              "      <td>542.0</td>\n",
              "      <td>299.0</td>\n",
              "      <td>625.0</td>\n",
              "      <td>369.0</td>\n",
              "      <td>2623.0</td>\n",
              "      <td>994.0</td>\n",
              "      <td>1537.0</td>\n",
              "      <td>135.0</td>\n",
              "      <td>85.0</td>\n",
              "      <td>50.0</td>\n",
              "      <td>NaN</td>\n",
              "      <td>NaN</td>\n",
              "      <td>NaN</td>\n",
              "      <td>NaN</td>\n",
              "      <td>NaN</td>\n",
              "      <td>NaN</td>\n",
              "      <td>NaN</td>\n",
              "      <td>NaN</td>\n",
              "      <td>NaN</td>\n",
              "      <td>NaN</td>\n",
              "      <td>933.0</td>\n",
              "      <td>NaN</td>\n",
              "      <td>NaN</td>\n",
              "      <td>738.0</td>\n",
              "      <td>1083.0</td>\n",
              "      <td>1299.0</td>\n",
              "      <td>...</td>\n",
              "      <td>NaN</td>\n",
              "      <td>NaN</td>\n",
              "      <td>NaN</td>\n",
              "      <td>NaN</td>\n",
              "      <td>NaN</td>\n",
              "      <td>NaN</td>\n",
              "      <td>NaN</td>\n",
              "      <td>NaN</td>\n",
              "      <td>NaN</td>\n",
              "      <td>NaN</td>\n",
              "      <td>NaN</td>\n",
              "      <td>NaN</td>\n",
              "      <td>NaN</td>\n",
              "      <td>NaN</td>\n",
              "      <td>NaN</td>\n",
              "      <td>NaN</td>\n",
              "      <td>NaN</td>\n",
              "      <td>NaN</td>\n",
              "      <td>NaN</td>\n",
              "      <td>NaN</td>\n",
              "      <td>NaN</td>\n",
              "      <td>NaN</td>\n",
              "      <td>NaN</td>\n",
              "      <td>NaN</td>\n",
              "      <td>NaN</td>\n",
              "      <td>NaN</td>\n",
              "      <td>NaN</td>\n",
              "      <td>NaN</td>\n",
              "      <td>NaN</td>\n",
              "      <td>NaN</td>\n",
              "      <td>922.0</td>\n",
              "      <td>1015.0</td>\n",
              "      <td>904.0</td>\n",
              "      <td>4086.0</td>\n",
              "      <td>193.0</td>\n",
              "      <td>18.0</td>\n",
              "      <td>4.0</td>\n",
              "      <td>11.0</td>\n",
              "      <td>74.0</td>\n",
              "      <td>85.0</td>\n",
              "    </tr>\n",
              "    <tr>\n",
              "      <th>4</th>\n",
              "      <td>01001020500</td>\n",
              "      <td>1.0</td>\n",
              "      <td>census tract 205, autauga county, alabama</td>\n",
              "      <td>4580.0</td>\n",
              "      <td>536.0</td>\n",
              "      <td>92.0</td>\n",
              "      <td>68.0</td>\n",
              "      <td>35.0</td>\n",
              "      <td>96.0</td>\n",
              "      <td>1685.0</td>\n",
              "      <td>10770.0</td>\n",
              "      <td>136.0</td>\n",
              "      <td>405.0</td>\n",
              "      <td>1396.0</td>\n",
              "      <td>1226.0</td>\n",
              "      <td>751.0</td>\n",
              "      <td>1601.0</td>\n",
              "      <td>1277.0</td>\n",
              "      <td>6251.0</td>\n",
              "      <td>2878.0</td>\n",
              "      <td>5016.0</td>\n",
              "      <td>391.0</td>\n",
              "      <td>255.0</td>\n",
              "      <td>136.0</td>\n",
              "      <td>NaN</td>\n",
              "      <td>NaN</td>\n",
              "      <td>NaN</td>\n",
              "      <td>NaN</td>\n",
              "      <td>NaN</td>\n",
              "      <td>NaN</td>\n",
              "      <td>NaN</td>\n",
              "      <td>NaN</td>\n",
              "      <td>NaN</td>\n",
              "      <td>NaN</td>\n",
              "      <td>1169.0</td>\n",
              "      <td>NaN</td>\n",
              "      <td>975.0</td>\n",
              "      <td>1052.0</td>\n",
              "      <td>1258.0</td>\n",
              "      <td>1650.0</td>\n",
              "      <td>...</td>\n",
              "      <td>NaN</td>\n",
              "      <td>NaN</td>\n",
              "      <td>NaN</td>\n",
              "      <td>NaN</td>\n",
              "      <td>NaN</td>\n",
              "      <td>NaN</td>\n",
              "      <td>NaN</td>\n",
              "      <td>NaN</td>\n",
              "      <td>NaN</td>\n",
              "      <td>NaN</td>\n",
              "      <td>NaN</td>\n",
              "      <td>NaN</td>\n",
              "      <td>NaN</td>\n",
              "      <td>NaN</td>\n",
              "      <td>NaN</td>\n",
              "      <td>NaN</td>\n",
              "      <td>NaN</td>\n",
              "      <td>NaN</td>\n",
              "      <td>NaN</td>\n",
              "      <td>NaN</td>\n",
              "      <td>NaN</td>\n",
              "      <td>NaN</td>\n",
              "      <td>NaN</td>\n",
              "      <td>NaN</td>\n",
              "      <td>NaN</td>\n",
              "      <td>NaN</td>\n",
              "      <td>NaN</td>\n",
              "      <td>NaN</td>\n",
              "      <td>NaN</td>\n",
              "      <td>NaN</td>\n",
              "      <td>2242.0</td>\n",
              "      <td>3162.0</td>\n",
              "      <td>1126.0</td>\n",
              "      <td>8666.0</td>\n",
              "      <td>1437.0</td>\n",
              "      <td>296.0</td>\n",
              "      <td>9.0</td>\n",
              "      <td>48.0</td>\n",
              "      <td>310.0</td>\n",
              "      <td>355.0</td>\n",
              "    </tr>\n",
              "  </tbody>\n",
              "</table>\n",
              "<p>5 rows × 170 columns</p>\n",
              "</div>"
            ],
            "text/plain": [
              "         geoid  ruca_code  ... tractomultir  tracthispanic\n",
              "0  01001020100        1.0  ...         45.0           44.0\n",
              "1  01001020200        1.0  ...         55.0           75.0\n",
              "2  01001020300        1.0  ...        117.0           87.0\n",
              "3  01001020400        1.0  ...         74.0           85.0\n",
              "4  01001020500        1.0  ...        310.0          355.0\n",
              "\n",
              "[5 rows x 170 columns]"
            ]
          },
          "metadata": {
            "tags": []
          },
          "execution_count": 8
        }
      ]
    },
    {
      "cell_type": "code",
      "metadata": {
        "colab": {
          "base_uri": "https://localhost:8080/"
        },
        "id": "XZ8I6Pafy3TK",
        "outputId": "a44c74f9-ce2c-4864-98cd-86d5909aa074"
      },
      "source": [
        "#listing out all variables and dtypes; I'm working on 129-154\n",
        "df.info(verbose=True)"
      ],
      "execution_count": null,
      "outputs": [
        {
          "output_type": "stream",
          "text": [
            "<class 'pandas.core.frame.DataFrame'>\n",
            "RangeIndex: 74106 entries, 0 to 74105\n",
            "Data columns (total 170 columns):\n",
            " #   Column                              Dtype  \n",
            "---  ------                              -----  \n",
            " 0   geoid                               object \n",
            " 1   ruca_code                           float64\n",
            " 2   name                                object \n",
            " 3   total_drove_alone                   float64\n",
            " 4   total_carpooled                     float64\n",
            " 5   total_public_trans                  float64\n",
            " 6   total_walked                        float64\n",
            " 7   total_taxi-motorcycle-bike          float64\n",
            " 8   total_WFH                           float64\n",
            " 9   total_non-inst_pop_with_disability  float64\n",
            " 10  totpop10_y                          float64\n",
            " 11  edu_less_than_9th_grade             float64\n",
            " 12  edu_9th-12th_no_diploma             float64\n",
            " 13  edu_HS_graduate                     float64\n",
            " 14  edu_some_college                    float64\n",
            " 15  edu_associates_degree               float64\n",
            " 16  edu_bachelors_degree                float64\n",
            " 17  edu_professional_degree             float64\n",
            " 18  edu_HS_or_higher                    float64\n",
            " 19  edu_bach_or_higher                  float64\n",
            " 20  total_US_born                       float64\n",
            " 21  total_foreign_born                  float64\n",
            " 22  foreign_born_naturalized            float64\n",
            " 23  foreign_born_non-citizen            float64\n",
            " 24  travel_time_total                   float64\n",
            " 25  travel_time_10_less                 float64\n",
            " 26  travel_time_10_14                   float64\n",
            " 27  travel_time_15_19                   float64\n",
            " 28  travel_time_20_24                   float64\n",
            " 29  travel_time_25_29                   float64\n",
            " 30  travel_time_30_34                   float64\n",
            " 31  travel_time_35_44                   float64\n",
            " 32  travel_time_45_59                   float64\n",
            " 33  travel_time_60_plus                 float64\n",
            " 34  rent_median                         float64\n",
            " 35  rent_studio                         float64\n",
            " 36  rent_1bd                            float64\n",
            " 37  rent_2bd                            float64\n",
            " 38  rent_3bd                            float64\n",
            " 39  rent_4bd                            float64\n",
            " 40  rent_5bd                            float64\n",
            " 41  housing_units_total                 float64\n",
            " 42  housing_occupied                    float64\n",
            " 43  housing_occupied_pct                float64\n",
            " 44  housing_vacant                      float64\n",
            " 45  housing_vacant_pct                  float64\n",
            " 46  housing_med_rm                      float64\n",
            " 47  own_occupied                        float64\n",
            " 48  own_occupied_pct                    float64\n",
            " 49  rent_occupied                       float64\n",
            " 50  rent_occupied_pct                   float64\n",
            " 51  house_sz_own                        float64\n",
            " 52  house_sz_rent                       float64\n",
            " 53  vehicle_total                       float64\n",
            " 54  vehicle_0                           float64\n",
            " 55  vehicle_0_pct                       float64\n",
            " 56  vehicle_1                           float64\n",
            " 57  vehicle_1_pct                       float64\n",
            " 58  vehicle_2                           float64\n",
            " 59  vehicle_2_pct                       float64\n",
            " 60  vehicle_3_plus                      float64\n",
            " 61  vehicle_3_pct                       float64\n",
            " 62  home_value                          float64\n",
            " 63  mortgage_total                      float64\n",
            " 64  mortgage_pct                        float64\n",
            " 65  no_mortgate                         float64\n",
            " 66  no_mortgage_pct                     float64\n",
            " 67  costs_mortgage                      float64\n",
            " 68  costs_no_mortgage                   float64\n",
            " 69  paying_renter                       float64\n",
            " 70  costs_renter                        float64\n",
            " 71  workers_count                       float64\n",
            " 72  lowwagewk_count                     float64\n",
            " 73  medwagewk_count                     float64\n",
            " 74  hiwagewk_count                      float64\n",
            " 75  pct_lowwagewk                       float64\n",
            " 76  employ_tot_count                    float64\n",
            " 77  ac_land_y                           float64\n",
            " 78  ac_unpr_y                           float64\n",
            " 79  resident_density                    float64\n",
            " 80  pop_density                         float64\n",
            " 81  emp_density                         float64\n",
            " 82  tot_rdnetwk_density                 float64\n",
            " 83  netwk_density_auto                  float64\n",
            " 84  netwk_density_multimode             float64\n",
            " 85  netwk_density_walk                  float64\n",
            " 86  transit_distance                    float64\n",
            " 87  jobs_halfmi_transit                 float64\n",
            " 88  freq_transit                        float64\n",
            " 89  jobs_45min_auto                     float64\n",
            " 90  jobs_45min_transit                  float64\n",
            " 91  traccess_i                          float64\n",
            " 92  d2a_ephhm                           float64\n",
            " 93  d2b_e8mixa                          float64\n",
            " 94  d3b                                 float64\n",
            " 95  d4a                                 float64\n",
            " 96  natwalkind                          float64\n",
            " 97  lilatracts_1and10                   float64\n",
            " 98  lilatracts_1and20                   float64\n",
            " 99  lilatracts_vehicle                  float64\n",
            " 100 lowincometracts                     float64\n",
            " 101 povertyrate                         float64\n",
            " 102 medianfamilyincome                  float64\n",
            " 103 la1and10                            float64\n",
            " 104 la1and20                            float64\n",
            " 105 latractsvehicle_20                  float64\n",
            " 106 lapop1_10                           float64\n",
            " 107 lapop1_20                           float64\n",
            " 108 lalowi1_10                          float64\n",
            " 109 lalowi1_20                          float64\n",
            " 110 lapop1                              float64\n",
            " 111 lapop1share                         float64\n",
            " 112 lalowi1                             float64\n",
            " 113 lalowi1share                        float64\n",
            " 114 lahunv1                             float64\n",
            " 115 lahunv1share                        float64\n",
            " 116 lapop10                             float64\n",
            " 117 lapop10share                        float64\n",
            " 118 lalowi10                            float64\n",
            " 119 lalowi10share                       float64\n",
            " 120 lawhite10                           float64\n",
            " 121 lawhite10share                      float64\n",
            " 122 lablack10                           float64\n",
            " 123 lablack10share                      float64\n",
            " 124 laasian10                           float64\n",
            " 125 laasian10share                      float64\n",
            " 126 lanhopi10                           float64\n",
            " 127 lanhopi10share                      float64\n",
            " 128 laaian10                            float64\n",
            " 129 laaian10share                       float64\n",
            " 130 laomultir10                         float64\n",
            " 131 laomultir10share                    float64\n",
            " 132 lahisp10                            float64\n",
            " 133 lahisp10share                       float64\n",
            " 134 lahunv10                            float64\n",
            " 135 lahunv10share                       float64\n",
            " 136 lapop20                             float64\n",
            " 137 lapop20share                        float64\n",
            " 138 lalowi20                            float64\n",
            " 139 lalowi20share                       float64\n",
            " 140 lakids20                            float64\n",
            " 141 lakids20share                       float64\n",
            " 142 laseniors20                         float64\n",
            " 143 laseniors20share                    float64\n",
            " 144 lawhite20                           float64\n",
            " 145 lawhite20share                      float64\n",
            " 146 lablack20                           float64\n",
            " 147 lablack20share                      float64\n",
            " 148 laasian20                           float64\n",
            " 149 laasian20share                      float64\n",
            " 150 lanhopi20                           float64\n",
            " 151 lanhopi20share                      float64\n",
            " 152 laaian20                            float64\n",
            " 153 laaian20share                       float64\n",
            " 154 laomultir20                         float64\n",
            " 155 laomultir20share                    float64\n",
            " 156 lahisp20                            float64\n",
            " 157 lahisp20share                       float64\n",
            " 158 lahunv20                            float64\n",
            " 159 lahunv20share                       float64\n",
            " 160 tractlowi                           float64\n",
            " 161 tractkids                           float64\n",
            " 162 tractseniors                        float64\n",
            " 163 tractwhite                          float64\n",
            " 164 tractblack                          float64\n",
            " 165 tractasian                          float64\n",
            " 166 tractnhopi                          float64\n",
            " 167 tractaian                           float64\n",
            " 168 tractomultir                        float64\n",
            " 169 tracthispanic                       float64\n",
            "dtypes: float64(168), object(2)\n",
            "memory usage: 96.1+ MB\n"
          ],
          "name": "stdout"
        }
      ]
    },
    {
      "cell_type": "markdown",
      "metadata": {
        "id": "D0xix4CTBxi2"
      },
      "source": [
        "## **laasian10**\n",
        "\n"
      ]
    },
    {
      "cell_type": "code",
      "metadata": {
        "colab": {
          "base_uri": "https://localhost:8080/",
          "height": 384
        },
        "id": "m1pFcYrcBxKf",
        "outputId": "d5285060-a409-44d8-9c37-b0c9b08b8006"
      },
      "source": [
        "#categorical summary--null values\n",
        "null_1 = df['laasian10'].isnull().sum()\n",
        "print('The total number of null value is', null_1)\n",
        "\n",
        "#percent null values\n",
        "#first part of the code below is the categorical summary code above - divided to make a percentage. \n",
        "null_1_pct = (df['laasian10'].isnull().sum()) / len(df['laasian10'])*100\n",
        "print(\"The percentage of null values in this variable is:\", round(null_1_pct, 1))\n",
        "\n",
        "# create boxplot of variable\n",
        "sns.boxplot(df['laasian10'])"
      ],
      "execution_count": null,
      "outputs": [
        {
          "output_type": "stream",
          "text": [
            "The total number of null value is 66340\n",
            "The percentage of null values in this variable is: 89.5\n"
          ],
          "name": "stdout"
        },
        {
          "output_type": "stream",
          "text": [
            "/usr/local/lib/python3.7/dist-packages/seaborn/_decorators.py:43: FutureWarning: Pass the following variable as a keyword arg: x. From version 0.12, the only valid positional argument will be `data`, and passing other arguments without an explicit keyword will result in an error or misinterpretation.\n",
            "  FutureWarning\n"
          ],
          "name": "stderr"
        },
        {
          "output_type": "execute_result",
          "data": {
            "text/plain": [
              "<matplotlib.axes._subplots.AxesSubplot at 0x7f6fd4a9ee10>"
            ]
          },
          "metadata": {
            "tags": []
          },
          "execution_count": 22
        },
        {
          "output_type": "display_data",
          "data": {
            "image/png": "[encoded data removed]",
            "text/plain": [
              "<Figure size 432x288 with 1 Axes>"
            ]
          },
          "metadata": {
            "tags": [],
            "needs_background": "light"
          }
        }
      ]
    },
    {
      "cell_type": "code",
      "metadata": {
        "colab": {
          "base_uri": "https://localhost:8080/"
        },
        "id": "5dV5amOXCKez",
        "outputId": "ec359813-b3bd-4db0-fda2-840679ec4807"
      },
      "source": [
        "#describe variable\n",
        "df['laasian10'].describe()"
      ],
      "execution_count": null,
      "outputs": [
        {
          "output_type": "execute_result",
          "data": {
            "text/plain": [
              "count    7766.000000\n",
              "mean        2.802987\n",
              "std        16.163900\n",
              "min         0.000000\n",
              "25%         0.000000\n",
              "50%         0.000000\n",
              "75%         2.000000\n",
              "max       597.000000\n",
              "Name: laasian10, dtype: float64"
            ]
          },
          "metadata": {
            "tags": []
          },
          "execution_count": 23
        }
      ]
    },
    {
      "cell_type": "markdown",
      "metadata": {
        "id": "OwnoVKn_C2w-"
      },
      "source": [
        "## **laasian10share**"
      ]
    },
    {
      "cell_type": "code",
      "metadata": {
        "colab": {
          "base_uri": "https://localhost:8080/",
          "height": 384
        },
        "id": "6uVJ5x4lC9zA",
        "outputId": "377c50bc-517b-42eb-8c65-bdcfc1b75cda"
      },
      "source": [
        "#categorical summary--null values\n",
        "null_1 = df['laasian10share'].isnull().sum()\n",
        "print('The total number of null value is', null_1)\n",
        "\n",
        "#percent null values\n",
        "#first part of the code below is the categorical summary code above - divided to make a percentage. \n",
        "null_1_pct = (df['laasian10share'].isnull().sum()) / len(df['laasian10share'])*100\n",
        "print(\"The percentage of null values in this variable is:\", round(null_1_pct, 1))\n",
        "\n",
        "# create boxplot of variable\n",
        "sns.boxplot(df['laasian10share'])"
      ],
      "execution_count": null,
      "outputs": [
        {
          "output_type": "stream",
          "text": [
            "The total number of null value is 66340\n",
            "The percentage of null values in this variable is: 89.5\n"
          ],
          "name": "stdout"
        },
        {
          "output_type": "stream",
          "text": [
            "/usr/local/lib/python3.7/dist-packages/seaborn/_decorators.py:43: FutureWarning: Pass the following variable as a keyword arg: x. From version 0.12, the only valid positional argument will be `data`, and passing other arguments without an explicit keyword will result in an error or misinterpretation.\n",
            "  FutureWarning\n"
          ],
          "name": "stderr"
        },
        {
          "output_type": "execute_result",
          "data": {
            "text/plain": [
              "<matplotlib.axes._subplots.AxesSubplot at 0x7f6fd48f9950>"
            ]
          },
          "metadata": {
            "tags": []
          },
          "execution_count": 24
        },
        {
          "output_type": "display_data",
          "data": {
            "image/png": "[encoded data removed]",
            "text/plain": [
              "<Figure size 432x288 with 1 Axes>"
            ]
          },
          "metadata": {
            "tags": [],
            "needs_background": "light"
          }
        }
      ]
    },
    {
      "cell_type": "code",
      "metadata": {
        "colab": {
          "base_uri": "https://localhost:8080/"
        },
        "id": "IElMy5RpEYgc",
        "outputId": "da03a37f-67d9-44f5-eb59-751854fdcdf2"
      },
      "source": [
        "df['laasian10share'].describe()"
      ],
      "execution_count": null,
      "outputs": [
        {
          "output_type": "execute_result",
          "data": {
            "text/plain": [
              "count    7766.000000\n",
              "mean        0.088981\n",
              "std         0.538704\n",
              "min         0.000000\n",
              "25%         0.000000\n",
              "50%         0.000000\n",
              "75%         0.070000\n",
              "max        28.220000\n",
              "Name: laasian10share, dtype: float64"
            ]
          },
          "metadata": {
            "tags": []
          },
          "execution_count": 26
        }
      ]
    },
    {
      "cell_type": "markdown",
      "metadata": {
        "id": "Pcrcf2rjE12B"
      },
      "source": [
        "## **lanhopi10**"
      ]
    },
    {
      "cell_type": "code",
      "metadata": {
        "colab": {
          "base_uri": "https://localhost:8080/",
          "height": 384
        },
        "id": "km7QSdeaE96E",
        "outputId": "4bfed9fe-151b-41c4-e087-9c9cf1e7e477"
      },
      "source": [
        "#categorical summary--null values\n",
        "null_1 = df['lanhopi10'].isnull().sum()\n",
        "print('The total number of null value is', null_1)\n",
        "\n",
        "#percent null values\n",
        "#first part of the code below is the categorical summary code above - divided to make a percentage. \n",
        "null_1_pct = (df['lanhopi10'].isnull().sum()) / len(df['lanhopi10'])*100\n",
        "print(\"The percentage of null values in this variable is:\", round(null_1_pct, 1))\n",
        "\n",
        "# create boxplot of variable\n",
        "sns.boxplot(df['lanhopi10'])"
      ],
      "execution_count": null,
      "outputs": [
        {
          "output_type": "stream",
          "text": [
            "The total number of null value is 66340\n",
            "The percentage of null values in this variable is: 89.5\n"
          ],
          "name": "stdout"
        },
        {
          "output_type": "stream",
          "text": [
            "/usr/local/lib/python3.7/dist-packages/seaborn/_decorators.py:43: FutureWarning: Pass the following variable as a keyword arg: x. From version 0.12, the only valid positional argument will be `data`, and passing other arguments without an explicit keyword will result in an error or misinterpretation.\n",
            "  FutureWarning\n"
          ],
          "name": "stderr"
        },
        {
          "output_type": "execute_result",
          "data": {
            "text/plain": [
              "<matplotlib.axes._subplots.AxesSubplot at 0x7f6fd48250d0>"
            ]
          },
          "metadata": {
            "tags": []
          },
          "execution_count": 27
        },
        {
          "output_type": "display_data",
          "data": {
            "image/png": "[encoded data removed]",
            "text/plain": [
              "<Figure size 432x288 with 1 Axes>"
            ]
          },
          "metadata": {
            "tags": [],
            "needs_background": "light"
          }
        }
      ]
    },
    {
      "cell_type": "code",
      "metadata": {
        "colab": {
          "base_uri": "https://localhost:8080/"
        },
        "id": "LtCJH-CTFFKN",
        "outputId": "29b8900b-276e-420c-a065-427d63a44774"
      },
      "source": [
        "df['lanhopi10'].describe()"
      ],
      "execution_count": null,
      "outputs": [
        {
          "output_type": "execute_result",
          "data": {
            "text/plain": [
              "count    7766.000000\n",
              "mean        0.521762\n",
              "std         5.977160\n",
              "min         0.000000\n",
              "25%         0.000000\n",
              "50%         0.000000\n",
              "75%         0.000000\n",
              "max       266.000000\n",
              "Name: lanhopi10, dtype: float64"
            ]
          },
          "metadata": {
            "tags": []
          },
          "execution_count": 28
        }
      ]
    },
    {
      "cell_type": "markdown",
      "metadata": {
        "id": "WeLud4QZFZz-"
      },
      "source": [
        "## **lanhopi10share**"
      ]
    },
    {
      "cell_type": "code",
      "metadata": {
        "colab": {
          "base_uri": "https://localhost:8080/",
          "height": 384
        },
        "id": "ucm_6B0EFdMK",
        "outputId": "24b9c6ad-b4ae-4a68-89f2-0dd87a68b5f9"
      },
      "source": [
        "#categorical summary--null values\n",
        "null_1 = df['lanhopi10share'].isnull().sum()\n",
        "print('The total number of null value is', null_1)\n",
        "\n",
        "#percent null values\n",
        "#first part of the code below is the categorical summary code above - divided to make a percentage. \n",
        "null_1_pct = (df['lanhopi10share'].isnull().sum()) / len(df['lanhopi10share'])*100\n",
        "print(\"The percentage of null values in this variable is:\", round(null_1_pct, 1))\n",
        "\n",
        "# create boxplot of variable\n",
        "sns.boxplot(df['lanhopi10share'])"
      ],
      "execution_count": null,
      "outputs": [
        {
          "output_type": "stream",
          "text": [
            "The total number of null value is 66340\n",
            "The percentage of null values in this variable is: 89.5\n"
          ],
          "name": "stdout"
        },
        {
          "output_type": "stream",
          "text": [
            "/usr/local/lib/python3.7/dist-packages/seaborn/_decorators.py:43: FutureWarning: Pass the following variable as a keyword arg: x. From version 0.12, the only valid positional argument will be `data`, and passing other arguments without an explicit keyword will result in an error or misinterpretation.\n",
            "  FutureWarning\n"
          ],
          "name": "stderr"
        },
        {
          "output_type": "execute_result",
          "data": {
            "text/plain": [
              "<matplotlib.axes._subplots.AxesSubplot at 0x7f6fd47b3390>"
            ]
          },
          "metadata": {
            "tags": []
          },
          "execution_count": 29
        },
        {
          "output_type": "display_data",
          "data": {
            "image/png": "[encoded data removed]",
            "text/plain": [
              "<Figure size 432x288 with 1 Axes>"
            ]
          },
          "metadata": {
            "tags": [],
            "needs_background": "light"
          }
        }
      ]
    },
    {
      "cell_type": "code",
      "metadata": {
        "colab": {
          "base_uri": "https://localhost:8080/"
        },
        "id": "BBqgSwGaFntq",
        "outputId": "9ddec335-49ee-4507-d314-b7107c70431c"
      },
      "source": [
        "df['lanhopi10share'].describe()"
      ],
      "execution_count": null,
      "outputs": [
        {
          "output_type": "execute_result",
          "data": {
            "text/plain": [
              "count    7766.000000\n",
              "mean        0.026813\n",
              "std         0.987922\n",
              "min         0.000000\n",
              "25%         0.000000\n",
              "50%         0.000000\n",
              "75%         0.000000\n",
              "max        85.880000\n",
              "Name: lanhopi10share, dtype: float64"
            ]
          },
          "metadata": {
            "tags": []
          },
          "execution_count": 31
        }
      ]
    },
    {
      "cell_type": "markdown",
      "metadata": {
        "id": "y7ZK1GxjGtbj"
      },
      "source": [
        "## **laaian10**"
      ]
    },
    {
      "cell_type": "code",
      "metadata": {
        "colab": {
          "base_uri": "https://localhost:8080/",
          "height": 384
        },
        "id": "Pbn7c2BbGtuB",
        "outputId": "b4096ee8-f6a1-4ab1-88bb-78267ff338a7"
      },
      "source": [
        "#categorical summary--null values\n",
        "null_1 = df['laaian10'].isnull().sum()\n",
        "print('The total number of null value is', null_1)\n",
        "\n",
        "#percent null values\n",
        "#first part of the code below is the categorical summary code above - divided to make a percentage. \n",
        "null_1_pct = (df['laaian10'].isnull().sum()) / len(df['laaian10'])*100\n",
        "print(\"The percentage of null values in this variable is:\", round(null_1_pct, 1))\n",
        "\n",
        "# create boxplot of variable\n",
        "sns.boxplot(df['laaian10'])"
      ],
      "execution_count": null,
      "outputs": [
        {
          "output_type": "stream",
          "text": [
            "The total number of null value is 66340\n",
            "The percentage of null values in this variable is: 89.5\n"
          ],
          "name": "stdout"
        },
        {
          "output_type": "stream",
          "text": [
            "/usr/local/lib/python3.7/dist-packages/seaborn/_decorators.py:43: FutureWarning: Pass the following variable as a keyword arg: x. From version 0.12, the only valid positional argument will be `data`, and passing other arguments without an explicit keyword will result in an error or misinterpretation.\n",
            "  FutureWarning\n"
          ],
          "name": "stderr"
        },
        {
          "output_type": "execute_result",
          "data": {
            "text/plain": [
              "<matplotlib.axes._subplots.AxesSubplot at 0x7f6fd07cae90>"
            ]
          },
          "metadata": {
            "tags": []
          },
          "execution_count": 32
        },
        {
          "output_type": "display_data",
          "data": {
            "image/png": "[encoded data removed]",
            "text/plain": [
              "<Figure size 432x288 with 1 Axes>"
            ]
          },
          "metadata": {
            "tags": [],
            "needs_background": "light"
          }
        }
      ]
    },
    {
      "cell_type": "code",
      "metadata": {
        "colab": {
          "base_uri": "https://localhost:8080/"
        },
        "id": "2jaYumOeG4S3",
        "outputId": "cb0945b8-ec4a-4336-a069-bd6650540f9c"
      },
      "source": [
        "df['laaian10'].describe()"
      ],
      "execution_count": null,
      "outputs": [
        {
          "output_type": "execute_result",
          "data": {
            "text/plain": [
              "count    7766.000000\n",
              "mean       38.426346\n",
              "std       284.216232\n",
              "min         0.000000\n",
              "25%         0.000000\n",
              "50%         1.000000\n",
              "75%         6.000000\n",
              "max      6947.000000\n",
              "Name: laaian10, dtype: float64"
            ]
          },
          "metadata": {
            "tags": []
          },
          "execution_count": 33
        }
      ]
    },
    {
      "cell_type": "markdown",
      "metadata": {
        "id": "MemOwevF2fHk"
      },
      "source": [
        "## **laaian10share(129)**"
      ]
    },
    {
      "cell_type": "code",
      "metadata": {
        "colab": {
          "base_uri": "https://localhost:8080/",
          "height": 384
        },
        "id": "fSlUp1NCyBJu",
        "outputId": "278f49e4-b14f-434f-8cdb-a812af3965f3"
      },
      "source": [
        "#categorical summary--null values\n",
        "null_1 = df['laaian10'].isnull().sum()\n",
        "print('The total number of null value is', null_1)\n",
        "\n",
        "#percent null values\n",
        "#first part of the code below is the categorical summary code above - divided to make a percentage. \n",
        "null_1_pct = (df['laaian10'].isnull().sum()) / len(df['laaian10'])*100\n",
        "print(\"The percentage of null values in this variable is:\", round(null_1_pct, 1))\n",
        "\n",
        "# create boxplot of variable\n",
        "sns.boxplot(df['laaian10'])\n"
      ],
      "execution_count": null,
      "outputs": [
        {
          "output_type": "stream",
          "text": [
            "The total number of null value is 66340\n",
            "The percentage of null values in this variable is: 89.5\n"
          ],
          "name": "stdout"
        },
        {
          "output_type": "stream",
          "text": [
            "/usr/local/lib/python3.7/dist-packages/seaborn/_decorators.py:43: FutureWarning: Pass the following variable as a keyword arg: x. From version 0.12, the only valid positional argument will be `data`, and passing other arguments without an explicit keyword will result in an error or misinterpretation.\n",
            "  FutureWarning\n"
          ],
          "name": "stderr"
        },
        {
          "output_type": "execute_result",
          "data": {
            "text/plain": [
              "<matplotlib.axes._subplots.AxesSubplot at 0x7f6fd4a9bf50>"
            ]
          },
          "metadata": {
            "tags": []
          },
          "execution_count": 18
        },
        {
          "output_type": "display_data",
          "data": {
            "image/png": "[encoded data removed]",
            "text/plain": [
              "<Figure size 432x288 with 1 Axes>"
            ]
          },
          "metadata": {
            "tags": [],
            "needs_background": "light"
          }
        }
      ]
    },
    {
      "cell_type": "code",
      "metadata": {
        "colab": {
          "base_uri": "https://localhost:8080/"
        },
        "id": "5KQSN2Ex-6j2",
        "outputId": "772da765-662f-41ea-845e-468352e911b3"
      },
      "source": [
        "#describe variable\n",
        "df['laaian10'].describe()"
      ],
      "execution_count": null,
      "outputs": [
        {
          "output_type": "execute_result",
          "data": {
            "text/plain": [
              "count    7766.000000\n",
              "mean       38.426346\n",
              "std       284.216232\n",
              "min         0.000000\n",
              "25%         0.000000\n",
              "50%         1.000000\n",
              "75%         6.000000\n",
              "max      6947.000000\n",
              "Name: laaian10, dtype: float64"
            ]
          },
          "metadata": {
            "tags": []
          },
          "execution_count": 17
        }
      ]
    },
    {
      "cell_type": "markdown",
      "metadata": {
        "id": "8C2KcFhZ2kS_"
      },
      "source": [
        "## **laomultir10 (130)**"
      ]
    },
    {
      "cell_type": "code",
      "metadata": {
        "colab": {
          "base_uri": "https://localhost:8080/",
          "height": 384
        },
        "id": "HsOBBjEx24qr",
        "outputId": "74b6406f-b35c-4acf-9739-d25df6b5f041"
      },
      "source": [
        "#categorical summary--null values\n",
        "null_1 = df['laomultir10'].isnull().sum()\n",
        "print('The total number of null value is', null_1)\n",
        "\n",
        "#percent null values\n",
        "#first part of the code below is the categorical summary code above - divided to make a percentage. \n",
        "null_1_pct = (df['laomultir10'].isnull().sum()) / len(df['laomultir10'])*100\n",
        "print(\"The percentage of null values in this variable is:\", round(null_1_pct, 1))\n",
        "\n",
        "# create boxplot of variable\n",
        "sns.boxplot(df['laomultir10'])\n"
      ],
      "execution_count": null,
      "outputs": [
        {
          "output_type": "stream",
          "text": [
            "The total number of null value is 66340\n",
            "The percentage of null values in this variable is: 89.5\n"
          ],
          "name": "stdout"
        },
        {
          "output_type": "stream",
          "text": [
            "/usr/local/lib/python3.7/dist-packages/seaborn/_decorators.py:43: FutureWarning: Pass the following variable as a keyword arg: x. From version 0.12, the only valid positional argument will be `data`, and passing other arguments without an explicit keyword will result in an error or misinterpretation.\n",
            "  FutureWarning\n"
          ],
          "name": "stderr"
        },
        {
          "output_type": "execute_result",
          "data": {
            "text/plain": [
              "<matplotlib.axes._subplots.AxesSubplot at 0x7f6fd494a950>"
            ]
          },
          "metadata": {
            "tags": []
          },
          "execution_count": 20
        },
        {
          "output_type": "display_data",
          "data": {
            "image/png": "[encoded data removed]",
            "text/plain": [
              "<Figure size 432x288 with 1 Axes>"
            ]
          },
          "metadata": {
            "tags": [],
            "needs_background": "light"
          }
        }
      ]
    },
    {
      "cell_type": "code",
      "metadata": {
        "colab": {
          "base_uri": "https://localhost:8080/"
        },
        "id": "getuO9YzATvU",
        "outputId": "e5e56981-78d4-4a16-b95c-101f0aec966c"
      },
      "source": [
        "#describe variable\n",
        "df['laomultir10'].describe()"
      ],
      "execution_count": null,
      "outputs": [
        {
          "output_type": "execute_result",
          "data": {
            "text/plain": [
              "count    7766.000000\n",
              "mean       30.291398\n",
              "std        94.638767\n",
              "min         0.000000\n",
              "25%         0.000000\n",
              "50%         6.000000\n",
              "75%        24.000000\n",
              "max      1724.000000\n",
              "Name: laomultir10, dtype: float64"
            ]
          },
          "metadata": {
            "tags": []
          },
          "execution_count": 21
        }
      ]
    },
    {
      "cell_type": "markdown",
      "metadata": {
        "id": "3ZTkTm7g2oiy"
      },
      "source": [
        "## **laomultir10share (131)**"
      ]
    },
    {
      "cell_type": "code",
      "metadata": {
        "colab": {
          "base_uri": "https://localhost:8080/",
          "height": 384
        },
        "id": "0ThyolwC23qo",
        "outputId": "ff82bce4-ad0b-4ef0-cc88-401e20f2291d"
      },
      "source": [
        "#categorical summary--null values\n",
        "null_1 = df['laomultir10share'].isnull().sum()\n",
        "print('The total number of null value is', null_1)\n",
        "\n",
        "#percent null values\n",
        "#first part of the code below is the categorical summary code above - divided to make a percentage. \n",
        "null_1_pct = (df['laomultir10share'].isnull().sum()) / len(df['laomultir10share'])*100\n",
        "print(\"The percentage of null values in this variable is:\", round(null_1_pct, 1))\n",
        "\n",
        "# create boxplot of variable\n",
        "sns.boxplot(df['laomultir10share'])"
      ],
      "execution_count": null,
      "outputs": [
        {
          "output_type": "stream",
          "text": [
            "The total number of null value is 66340\n",
            "The percentage of null values in this variable is: 89.5\n"
          ],
          "name": "stdout"
        },
        {
          "output_type": "stream",
          "text": [
            "/usr/local/lib/python3.7/dist-packages/seaborn/_decorators.py:43: FutureWarning: Pass the following variable as a keyword arg: x. From version 0.12, the only valid positional argument will be `data`, and passing other arguments without an explicit keyword will result in an error or misinterpretation.\n",
            "  FutureWarning\n"
          ],
          "name": "stderr"
        },
        {
          "output_type": "execute_result",
          "data": {
            "text/plain": [
              "<matplotlib.axes._subplots.AxesSubplot at 0x7f6fd06f44d0>"
            ]
          },
          "metadata": {
            "tags": []
          },
          "execution_count": 34
        },
        {
          "output_type": "display_data",
          "data": {
            "image/png": "[encoded data removed]",
            "text/plain": [
              "<Figure size 432x288 with 1 Axes>"
            ]
          },
          "metadata": {
            "tags": [],
            "needs_background": "light"
          }
        }
      ]
    },
    {
      "cell_type": "code",
      "metadata": {
        "colab": {
          "base_uri": "https://localhost:8080/"
        },
        "id": "YRI-tuSxITTs",
        "outputId": "c1a7b770-c5d7-4374-8825-5f733f84be6a"
      },
      "source": [
        "df['laomultir10share'].describe()"
      ],
      "execution_count": null,
      "outputs": [
        {
          "output_type": "execute_result",
          "data": {
            "text/plain": [
              "count    7766.000000\n",
              "mean        0.971561\n",
              "std         2.712061\n",
              "min         0.000000\n",
              "25%         0.010000\n",
              "50%         0.180000\n",
              "75%         0.760000\n",
              "max        45.450000\n",
              "Name: laomultir10share, dtype: float64"
            ]
          },
          "metadata": {
            "tags": []
          },
          "execution_count": 35
        }
      ]
    },
    {
      "cell_type": "markdown",
      "metadata": {
        "id": "h2eRcg0525Lb"
      },
      "source": [
        "## **lahisp10 (132)**"
      ]
    },
    {
      "cell_type": "code",
      "metadata": {
        "colab": {
          "base_uri": "https://localhost:8080/",
          "height": 384
        },
        "id": "OLkxPJx-2-Am",
        "outputId": "d660e577-1e01-4e47-af35-1a4be4f626f1"
      },
      "source": [
        "#categorical summary--null values\n",
        "null_1 = df['lahisp10'].isnull().sum()\n",
        "print('The total number of null value is', null_1)\n",
        "\n",
        "#percent null values\n",
        "#first part of the code below is the categorical summary code above - divided to make a percentage. \n",
        "null_1_pct = (df['lahisp10'].isnull().sum()) / len(df['lahisp10'])*100\n",
        "print(\"The percentage of null values in this variable is:\", round(null_1_pct, 1))\n",
        "\n",
        "# create boxplot of variable\n",
        "sns.boxplot(df['lahisp10'])"
      ],
      "execution_count": null,
      "outputs": [
        {
          "output_type": "stream",
          "text": [
            "The total number of null value is 66340\n",
            "The percentage of null values in this variable is: 89.5\n"
          ],
          "name": "stdout"
        },
        {
          "output_type": "stream",
          "text": [
            "/usr/local/lib/python3.7/dist-packages/seaborn/_decorators.py:43: FutureWarning: Pass the following variable as a keyword arg: x. From version 0.12, the only valid positional argument will be `data`, and passing other arguments without an explicit keyword will result in an error or misinterpretation.\n",
            "  FutureWarning\n"
          ],
          "name": "stderr"
        },
        {
          "output_type": "execute_result",
          "data": {
            "text/plain": [
              "<matplotlib.axes._subplots.AxesSubplot at 0x7f6fd067dad0>"
            ]
          },
          "metadata": {
            "tags": []
          },
          "execution_count": 36
        },
        {
          "output_type": "display_data",
          "data": {
            "image/png": "[encoded data removed]",
            "text/plain": [
              "<Figure size 432x288 with 1 Axes>"
            ]
          },
          "metadata": {
            "tags": [],
            "needs_background": "light"
          }
        }
      ]
    },
    {
      "cell_type": "code",
      "metadata": {
        "colab": {
          "base_uri": "https://localhost:8080/"
        },
        "id": "plfrPtbeIsmM",
        "outputId": "e8fc606e-defd-4cea-83f3-689d65136b35"
      },
      "source": [
        "df['lahisp10'].describe()"
      ],
      "execution_count": null,
      "outputs": [
        {
          "output_type": "execute_result",
          "data": {
            "text/plain": [
              "count    7766.000000\n",
              "mean       49.363636\n",
              "std       195.698344\n",
              "min         0.000000\n",
              "25%         0.000000\n",
              "50%         5.000000\n",
              "75%        24.000000\n",
              "max      3953.000000\n",
              "Name: lahisp10, dtype: float64"
            ]
          },
          "metadata": {
            "tags": []
          },
          "execution_count": 37
        }
      ]
    },
    {
      "cell_type": "markdown",
      "metadata": {
        "id": "yUmLMzl-2-jM"
      },
      "source": [
        "## **lahisp10share (133)**"
      ]
    },
    {
      "cell_type": "code",
      "metadata": {
        "colab": {
          "base_uri": "https://localhost:8080/",
          "height": 384
        },
        "id": "VI4xgCwV3KNO",
        "outputId": "7a872963-0c22-4b3c-e5f2-1d7cd9b1ab1b"
      },
      "source": [
        "#categorical summary--null values\n",
        "null_1 = df['lahisp10share'].isnull().sum()\n",
        "print('The total number of null value is', null_1)\n",
        "\n",
        "#percent null values\n",
        "#first part of the code below is the categorical summary code above - divided to make a percentage. \n",
        "null_1_pct = (df['lahisp10share'].isnull().sum()) / len(df['lahisp10share'])*100\n",
        "print(\"The percentage of null values in this variable is:\", round(null_1_pct, 1))\n",
        "\n",
        "# create boxplot of variable\n",
        "sns.boxplot(df['lahisp10share'])"
      ],
      "execution_count": null,
      "outputs": [
        {
          "output_type": "stream",
          "text": [
            "The total number of null value is 66340\n",
            "The percentage of null values in this variable is: 89.5\n"
          ],
          "name": "stdout"
        },
        {
          "output_type": "stream",
          "text": [
            "/usr/local/lib/python3.7/dist-packages/seaborn/_decorators.py:43: FutureWarning: Pass the following variable as a keyword arg: x. From version 0.12, the only valid positional argument will be `data`, and passing other arguments without an explicit keyword will result in an error or misinterpretation.\n",
            "  FutureWarning\n"
          ],
          "name": "stderr"
        },
        {
          "output_type": "execute_result",
          "data": {
            "text/plain": [
              "<matplotlib.axes._subplots.AxesSubplot at 0x7f6fd064f390>"
            ]
          },
          "metadata": {
            "tags": []
          },
          "execution_count": 38
        },
        {
          "output_type": "display_data",
          "data": {
            "image/png": "[encoded data removed]",
            "text/plain": [
              "<Figure size 432x288 with 1 Axes>"
            ]
          },
          "metadata": {
            "tags": [],
            "needs_background": "light"
          }
        }
      ]
    },
    {
      "cell_type": "code",
      "metadata": {
        "colab": {
          "base_uri": "https://localhost:8080/"
        },
        "id": "go1JgfaQJCQ_",
        "outputId": "1ff423fb-82b6-486f-e5be-e7103aab9d03"
      },
      "source": [
        "df['lahisp10share'].describe()"
      ],
      "execution_count": null,
      "outputs": [
        {
          "output_type": "execute_result",
          "data": {
            "text/plain": [
              "count    7766.000000\n",
              "mean        1.578750\n",
              "std         5.945125\n",
              "min         0.000000\n",
              "25%         0.000000\n",
              "50%         0.160000\n",
              "75%         0.760000\n",
              "max        88.270000\n",
              "Name: lahisp10share, dtype: float64"
            ]
          },
          "metadata": {
            "tags": []
          },
          "execution_count": 39
        }
      ]
    },
    {
      "cell_type": "markdown",
      "metadata": {
        "id": "HZLykJkm3Jgm"
      },
      "source": [
        "## **lahunv10 (134)**"
      ]
    },
    {
      "cell_type": "code",
      "metadata": {
        "colab": {
          "base_uri": "https://localhost:8080/",
          "height": 384
        },
        "id": "OJUGE5D63Md_",
        "outputId": "29adf28f-2e43-4c3d-c924-d4548fe2fa76"
      },
      "source": [
        "#categorical summary--null values\n",
        "null_1 = df['lahunv10'].isnull().sum()\n",
        "print('The total number of null value is', null_1)\n",
        "\n",
        "#percent null values\n",
        "#first part of the code below is the categorical summary code above - divided to make a percentage. \n",
        "null_1_pct = (df['lahunv10'].isnull().sum()) / len(df['lahunv10'])*100\n",
        "print(\"The percentage of null values in this variable is:\", round(null_1_pct, 1))\n",
        "\n",
        "# create boxplot of variable\n",
        "sns.boxplot(df['lahunv10'])"
      ],
      "execution_count": null,
      "outputs": [
        {
          "output_type": "stream",
          "text": [
            "The total number of null value is 66340\n",
            "The percentage of null values in this variable is: 89.5\n"
          ],
          "name": "stdout"
        },
        {
          "output_type": "stream",
          "text": [
            "/usr/local/lib/python3.7/dist-packages/seaborn/_decorators.py:43: FutureWarning: Pass the following variable as a keyword arg: x. From version 0.12, the only valid positional argument will be `data`, and passing other arguments without an explicit keyword will result in an error or misinterpretation.\n",
            "  FutureWarning\n"
          ],
          "name": "stderr"
        },
        {
          "output_type": "execute_result",
          "data": {
            "text/plain": [
              "<matplotlib.axes._subplots.AxesSubplot at 0x7f6fd05ffc50>"
            ]
          },
          "metadata": {
            "tags": []
          },
          "execution_count": 40
        },
        {
          "output_type": "display_data",
          "data": {
            "image/png": "[encoded data removed]",
            "text/plain": [
              "<Figure size 432x288 with 1 Axes>"
            ]
          },
          "metadata": {
            "tags": [],
            "needs_background": "light"
          }
        }
      ]
    },
    {
      "cell_type": "code",
      "metadata": {
        "colab": {
          "base_uri": "https://localhost:8080/"
        },
        "id": "A-Ko3m18JX2-",
        "outputId": "adbc3aa9-1c65-423d-f116-a425ee31a19b"
      },
      "source": [
        "df['lahunv10'].describe()"
      ],
      "execution_count": null,
      "outputs": [
        {
          "output_type": "execute_result",
          "data": {
            "text/plain": [
              "count    7766.000000\n",
              "mean       12.545068\n",
              "std        32.760643\n",
              "min         0.000000\n",
              "25%         0.000000\n",
              "50%         3.000000\n",
              "75%        13.000000\n",
              "max      1514.000000\n",
              "Name: lahunv10, dtype: float64"
            ]
          },
          "metadata": {
            "tags": []
          },
          "execution_count": 42
        }
      ]
    },
    {
      "cell_type": "markdown",
      "metadata": {
        "id": "DIHxqdBA3NCV"
      },
      "source": [
        "## **lahunv10share (135)**"
      ]
    },
    {
      "cell_type": "code",
      "metadata": {
        "colab": {
          "base_uri": "https://localhost:8080/",
          "height": 384
        },
        "id": "s7FHG46r3XLO",
        "outputId": "d2eb5dd4-acc2-47e6-d15a-3ff1bbc2d705"
      },
      "source": [
        "#categorical summary--null values\n",
        "null_1 = df['lahunv10share'].isnull().sum()\n",
        "print('The total number of null value is', null_1)\n",
        "\n",
        "#percent null values\n",
        "#first part of the code below is the categorical summary code above - divided to make a percentage. \n",
        "null_1_pct = (df['lahunv10share'].isnull().sum()) / len(df['lahunv10share'])*100\n",
        "print(\"The percentage of null values in this variable is:\", round(null_1_pct, 1))\n",
        "\n",
        "# create boxplot of variable\n",
        "sns.boxplot(df['lahunv10share'])"
      ],
      "execution_count": null,
      "outputs": [
        {
          "output_type": "stream",
          "text": [
            "The total number of null value is 66241\n",
            "The percentage of null values in this variable is: 89.4\n"
          ],
          "name": "stdout"
        },
        {
          "output_type": "stream",
          "text": [
            "/usr/local/lib/python3.7/dist-packages/seaborn/_decorators.py:43: FutureWarning: Pass the following variable as a keyword arg: x. From version 0.12, the only valid positional argument will be `data`, and passing other arguments without an explicit keyword will result in an error or misinterpretation.\n",
            "  FutureWarning\n"
          ],
          "name": "stderr"
        },
        {
          "output_type": "execute_result",
          "data": {
            "text/plain": [
              "<matplotlib.axes._subplots.AxesSubplot at 0x7f6fd04eecd0>"
            ]
          },
          "metadata": {
            "tags": []
          },
          "execution_count": 43
        },
        {
          "output_type": "display_data",
          "data": {
            "image/png": "[encoded data removed]",
            "text/plain": [
              "<Figure size 432x288 with 1 Axes>"
            ]
          },
          "metadata": {
            "tags": [],
            "needs_background": "light"
          }
        }
      ]
    },
    {
      "cell_type": "code",
      "metadata": {
        "colab": {
          "base_uri": "https://localhost:8080/"
        },
        "id": "IjO9VyfVJvE2",
        "outputId": "77d952ce-3d7e-421d-f19a-2a881e89ec03"
      },
      "source": [
        "df['lahunv10share'].describe()"
      ],
      "execution_count": null,
      "outputs": [
        {
          "output_type": "execute_result",
          "data": {
            "text/plain": [
              "count    7865.000000\n",
              "mean        1.094270\n",
              "std         3.036242\n",
              "min         0.000000\n",
              "25%         0.010000\n",
              "50%         0.200000\n",
              "75%         1.040000\n",
              "max        67.710000\n",
              "Name: lahunv10share, dtype: float64"
            ]
          },
          "metadata": {
            "tags": []
          },
          "execution_count": 44
        }
      ]
    },
    {
      "cell_type": "markdown",
      "metadata": {
        "id": "BMyzAPka3YxK"
      },
      "source": [
        "## **lapop20 (136)**"
      ]
    },
    {
      "cell_type": "code",
      "metadata": {
        "colab": {
          "base_uri": "https://localhost:8080/",
          "height": 384
        },
        "id": "C5wZAhaK3hIv",
        "outputId": "5570e95b-b20c-4351-b555-e1e85ab0709b"
      },
      "source": [
        "#categorical summary--null values\n",
        "null_1 = df['lapop20'].isnull().sum()\n",
        "print('The total number of null value is', null_1)\n",
        "\n",
        "#percent null values\n",
        "#first part of the code below is the categorical summary code above - divided to make a percentage. \n",
        "null_1_pct = (df['lapop20'].isnull().sum()) / len(df['lapop20'])*100\n",
        "print(\"The percentage of null values in this variable is:\", round(null_1_pct, 1))\n",
        "\n",
        "# create boxplot of variable\n",
        "sns.boxplot(df['lapop20'])"
      ],
      "execution_count": null,
      "outputs": [
        {
          "output_type": "stream",
          "text": [
            "The total number of null value is 72600\n",
            "The percentage of null values in this variable is: 98.0\n"
          ],
          "name": "stdout"
        },
        {
          "output_type": "stream",
          "text": [
            "/usr/local/lib/python3.7/dist-packages/seaborn/_decorators.py:43: FutureWarning: Pass the following variable as a keyword arg: x. From version 0.12, the only valid positional argument will be `data`, and passing other arguments without an explicit keyword will result in an error or misinterpretation.\n",
            "  FutureWarning\n"
          ],
          "name": "stderr"
        },
        {
          "output_type": "execute_result",
          "data": {
            "text/plain": [
              "<matplotlib.axes._subplots.AxesSubplot at 0x7f6fd04d3090>"
            ]
          },
          "metadata": {
            "tags": []
          },
          "execution_count": 45
        },
        {
          "output_type": "display_data",
          "data": {
            "image/png": "[encoded data removed]",
            "text/plain": [
              "<Figure size 432x288 with 1 Axes>"
            ]
          },
          "metadata": {
            "tags": [],
            "needs_background": "light"
          }
        }
      ]
    },
    {
      "cell_type": "code",
      "metadata": {
        "colab": {
          "base_uri": "https://localhost:8080/"
        },
        "id": "XzAhE_sCKLSR",
        "outputId": "6b7963f8-a4cc-493d-fc1d-c1461777824b"
      },
      "source": [
        "df['lapop20'].describe()"
      ],
      "execution_count": null,
      "outputs": [
        {
          "output_type": "execute_result",
          "data": {
            "text/plain": [
              "count    1506.000000\n",
              "mean      359.972112\n",
              "std       693.242157\n",
              "min         0.000000\n",
              "25%         4.000000\n",
              "50%        67.000000\n",
              "75%       415.750000\n",
              "max      8850.000000\n",
              "Name: lapop20, dtype: float64"
            ]
          },
          "metadata": {
            "tags": []
          },
          "execution_count": 46
        }
      ]
    },
    {
      "cell_type": "markdown",
      "metadata": {
        "id": "zf01Dmcr3hxs"
      },
      "source": [
        "## **lapop20share (137)**"
      ]
    },
    {
      "cell_type": "code",
      "metadata": {
        "colab": {
          "base_uri": "https://localhost:8080/",
          "height": 384
        },
        "id": "BbcysNyA3pgx",
        "outputId": "f49d5d8c-eac2-4585-9221-29ed8a9a57df"
      },
      "source": [
        "#categorical summary--null values\n",
        "null_1 = df['lapop20share'].isnull().sum()\n",
        "print('The total number of null value is', null_1)\n",
        "\n",
        "#percent null values\n",
        "#first part of the code below is the categorical summary code above - divided to make a percentage. \n",
        "null_1_pct = (df['lapop20share'].isnull().sum()) / len(df['lapop20share'])*100\n",
        "print(\"The percentage of null values in this variable is:\", round(null_1_pct, 1))\n",
        "\n",
        "# create boxplot of variable\n",
        "sns.boxplot(df['lapop20share'])"
      ],
      "execution_count": null,
      "outputs": [
        {
          "output_type": "stream",
          "text": [
            "The total number of null value is 72600\n",
            "The percentage of null values in this variable is: 98.0\n"
          ],
          "name": "stdout"
        },
        {
          "output_type": "stream",
          "text": [
            "/usr/local/lib/python3.7/dist-packages/seaborn/_decorators.py:43: FutureWarning: Pass the following variable as a keyword arg: x. From version 0.12, the only valid positional argument will be `data`, and passing other arguments without an explicit keyword will result in an error or misinterpretation.\n",
            "  FutureWarning\n"
          ],
          "name": "stderr"
        },
        {
          "output_type": "execute_result",
          "data": {
            "text/plain": [
              "<matplotlib.axes._subplots.AxesSubplot at 0x7f6fd0450990>"
            ]
          },
          "metadata": {
            "tags": []
          },
          "execution_count": 47
        },
        {
          "output_type": "display_data",
          "data": {
            "image/png": "[encoded data removed]",
            "text/plain": [
              "<Figure size 432x288 with 1 Axes>"
            ]
          },
          "metadata": {
            "tags": [],
            "needs_background": "light"
          }
        }
      ]
    },
    {
      "cell_type": "code",
      "metadata": {
        "colab": {
          "base_uri": "https://localhost:8080/"
        },
        "id": "lPj4-LKdKjci",
        "outputId": "dda1bfda-d5ea-4371-91c1-f369484015af"
      },
      "source": [
        "df['lapop20share'].describe()"
      ],
      "execution_count": null,
      "outputs": [
        {
          "output_type": "execute_result",
          "data": {
            "text/plain": [
              "count    1506.000000\n",
              "mean       15.366049\n",
              "std        26.703616\n",
              "min         0.000000\n",
              "25%         0.102500\n",
              "50%         2.575000\n",
              "75%        16.212500\n",
              "max       100.000000\n",
              "Name: lapop20share, dtype: float64"
            ]
          },
          "metadata": {
            "tags": []
          },
          "execution_count": 48
        }
      ]
    },
    {
      "cell_type": "markdown",
      "metadata": {
        "id": "gS9b41PF3qON"
      },
      "source": [
        "## **lalowi20 (138)**"
      ]
    },
    {
      "cell_type": "code",
      "metadata": {
        "colab": {
          "base_uri": "https://localhost:8080/",
          "height": 384
        },
        "id": "9jsTjKzA30FJ",
        "outputId": "2bb66a10-fc46-4d42-8a23-dc71a119687f"
      },
      "source": [
        "#categorical summary--null values\n",
        "null_1 = df['lalowi20'].isnull().sum()\n",
        "print('The total number of null value is', null_1)\n",
        "\n",
        "#percent null values\n",
        "#first part of the code below is the categorical summary code above - divided to make a percentage. \n",
        "null_1_pct = (df['lalowi20'].isnull().sum()) / len(df['lalowi20'])*100\n",
        "print(\"The percentage of null values in this variable is:\", round(null_1_pct, 1))\n",
        "\n",
        "# create boxplot of variable\n",
        "sns.boxplot(df['lalowi20'])"
      ],
      "execution_count": null,
      "outputs": [
        {
          "output_type": "stream",
          "text": [
            "The total number of null value is 72600\n",
            "The percentage of null values in this variable is: 98.0\n"
          ],
          "name": "stdout"
        },
        {
          "output_type": "stream",
          "text": [
            "/usr/local/lib/python3.7/dist-packages/seaborn/_decorators.py:43: FutureWarning: Pass the following variable as a keyword arg: x. From version 0.12, the only valid positional argument will be `data`, and passing other arguments without an explicit keyword will result in an error or misinterpretation.\n",
            "  FutureWarning\n"
          ],
          "name": "stderr"
        },
        {
          "output_type": "execute_result",
          "data": {
            "text/plain": [
              "<matplotlib.axes._subplots.AxesSubplot at 0x7f6fd03a7950>"
            ]
          },
          "metadata": {
            "tags": []
          },
          "execution_count": 49
        },
        {
          "output_type": "display_data",
          "data": {
            "image/png": "[encoded data removed]",
            "text/plain": [
              "<Figure size 432x288 with 1 Axes>"
            ]
          },
          "metadata": {
            "tags": [],
            "needs_background": "light"
          }
        }
      ]
    },
    {
      "cell_type": "code",
      "metadata": {
        "colab": {
          "base_uri": "https://localhost:8080/"
        },
        "id": "DKxTH4y9K7tB",
        "outputId": "3fd8f30e-4f88-4704-ae7a-5e671de6d736"
      },
      "source": [
        "df['lalowi20'].describe()"
      ],
      "execution_count": null,
      "outputs": [
        {
          "output_type": "execute_result",
          "data": {
            "text/plain": [
              "count    1506.000000\n",
              "mean      158.790837\n",
              "std       381.894793\n",
              "min         0.000000\n",
              "25%         1.000000\n",
              "50%        21.000000\n",
              "75%       131.000000\n",
              "max      4319.000000\n",
              "Name: lalowi20, dtype: float64"
            ]
          },
          "metadata": {
            "tags": []
          },
          "execution_count": 51
        }
      ]
    },
    {
      "cell_type": "markdown",
      "metadata": {
        "id": "agwsZuj230u0"
      },
      "source": [
        "## **lalowi20share (139)**"
      ]
    },
    {
      "cell_type": "code",
      "metadata": {
        "colab": {
          "base_uri": "https://localhost:8080/",
          "height": 384
        },
        "id": "VhXg9nH130MY",
        "outputId": "b78f9111-c39a-4ba8-dca2-e36b719f308d"
      },
      "source": [
        "#categorical summary--null values\n",
        "null_1 = df['lalowi20share'].isnull().sum()\n",
        "print('The total number of null value is', null_1)\n",
        "\n",
        "#percent null values\n",
        "#first part of the code below is the categorical summary code above - divided to make a percentage. \n",
        "null_1_pct = (df['lalowi20share'].isnull().sum()) / len(df['lalowi20share'])*100\n",
        "print(\"The percentage of null values in this variable is:\", round(null_1_pct, 1))\n",
        "\n",
        "# create boxplot of variable\n",
        "sns.boxplot(df['lalowi20share'])"
      ],
      "execution_count": null,
      "outputs": [
        {
          "output_type": "stream",
          "text": [
            "The total number of null value is 72600\n",
            "The percentage of null values in this variable is: 98.0\n"
          ],
          "name": "stdout"
        },
        {
          "output_type": "stream",
          "text": [
            "/usr/local/lib/python3.7/dist-packages/seaborn/_decorators.py:43: FutureWarning: Pass the following variable as a keyword arg: x. From version 0.12, the only valid positional argument will be `data`, and passing other arguments without an explicit keyword will result in an error or misinterpretation.\n",
            "  FutureWarning\n"
          ],
          "name": "stderr"
        },
        {
          "output_type": "execute_result",
          "data": {
            "text/plain": [
              "<matplotlib.axes._subplots.AxesSubplot at 0x7f6fd0394490>"
            ]
          },
          "metadata": {
            "tags": []
          },
          "execution_count": 52
        },
        {
          "output_type": "display_data",
          "data": {
            "image/png": "[encoded data removed]",
            "text/plain": [
              "<Figure size 432x288 with 1 Axes>"
            ]
          },
          "metadata": {
            "tags": [],
            "needs_background": "light"
          }
        }
      ]
    },
    {
      "cell_type": "code",
      "metadata": {
        "colab": {
          "base_uri": "https://localhost:8080/"
        },
        "id": "ErxI3s9aLRHQ",
        "outputId": "b156893f-7223-4586-baa4-bec1cbe65132"
      },
      "source": [
        "df['lalowi20share'].describe()"
      ],
      "execution_count": null,
      "outputs": [
        {
          "output_type": "execute_result",
          "data": {
            "text/plain": [
              "count    1506.000000\n",
              "mean        6.379163\n",
              "std        12.879631\n",
              "min         0.000000\n",
              "25%         0.030000\n",
              "50%         0.725000\n",
              "75%         5.285000\n",
              "max        99.990000\n",
              "Name: lalowi20share, dtype: float64"
            ]
          },
          "metadata": {
            "tags": []
          },
          "execution_count": 53
        }
      ]
    },
    {
      "cell_type": "markdown",
      "metadata": {
        "id": "bxw6qgbL34D9"
      },
      "source": [
        "## **lakids20 (140)**"
      ]
    },
    {
      "cell_type": "code",
      "metadata": {
        "colab": {
          "base_uri": "https://localhost:8080/",
          "height": 384
        },
        "id": "aF4mZRxm34Lv",
        "outputId": "ae122616-14e3-42b1-d71a-cd0e42ee5824"
      },
      "source": [
        "#categorical summary--null values\n",
        "null_1 = df['lakids20'].isnull().sum()\n",
        "print('The total number of null value is', null_1)\n",
        "\n",
        "#percent null values\n",
        "#first part of the code below is the categorical summary code above - divided to make a percentage. \n",
        "null_1_pct = (df['lakids20'].isnull().sum()) / len(df['lakids20'])*100\n",
        "print(\"The percentage of null values in this variable is:\", round(null_1_pct, 1))\n",
        "\n",
        "# create boxplot of variable\n",
        "sns.boxplot(df['lakids20'])"
      ],
      "execution_count": null,
      "outputs": [
        {
          "output_type": "stream",
          "text": [
            "The total number of null value is 72600\n",
            "The percentage of null values in this variable is: 98.0\n"
          ],
          "name": "stdout"
        },
        {
          "output_type": "stream",
          "text": [
            "/usr/local/lib/python3.7/dist-packages/seaborn/_decorators.py:43: FutureWarning: Pass the following variable as a keyword arg: x. From version 0.12, the only valid positional argument will be `data`, and passing other arguments without an explicit keyword will result in an error or misinterpretation.\n",
            "  FutureWarning\n"
          ],
          "name": "stderr"
        },
        {
          "output_type": "execute_result",
          "data": {
            "text/plain": [
              "<matplotlib.axes._subplots.AxesSubplot at 0x7f6fd032e350>"
            ]
          },
          "metadata": {
            "tags": []
          },
          "execution_count": 54
        },
        {
          "output_type": "display_data",
          "data": {
            "image/png": "[encoded data removed]",
            "text/plain": [
              "<Figure size 432x288 with 1 Axes>"
            ]
          },
          "metadata": {
            "tags": [],
            "needs_background": "light"
          }
        }
      ]
    },
    {
      "cell_type": "code",
      "metadata": {
        "colab": {
          "base_uri": "https://localhost:8080/"
        },
        "id": "srw67qBwLmCw",
        "outputId": "eebfdb64-56f5-452d-923a-eb4ee701d58e"
      },
      "source": [
        "df['lakids20'].describe()"
      ],
      "execution_count": null,
      "outputs": [
        {
          "output_type": "execute_result",
          "data": {
            "text/plain": [
              "count    1506.000000\n",
              "mean       85.039177\n",
              "std       196.943584\n",
              "min         0.000000\n",
              "25%         0.000000\n",
              "50%        12.000000\n",
              "75%        82.750000\n",
              "max      2992.000000\n",
              "Name: lakids20, dtype: float64"
            ]
          },
          "metadata": {
            "tags": []
          },
          "execution_count": 55
        }
      ]
    },
    {
      "cell_type": "markdown",
      "metadata": {
        "id": "54rUIaij3_Tz"
      },
      "source": [
        "## **lakids20share (141)**"
      ]
    },
    {
      "cell_type": "code",
      "metadata": {
        "colab": {
          "base_uri": "https://localhost:8080/",
          "height": 384
        },
        "id": "jQM5opOI3_iF",
        "outputId": "1dab8986-97a2-4717-8b3d-722694530f90"
      },
      "source": [
        "#categorical summary--null values\n",
        "null_1 = df['lakids20share'].isnull().sum()\n",
        "print('The total number of null value is', null_1)\n",
        "\n",
        "#percent null values\n",
        "#first part of the code below is the categorical summary code above - divided to make a percentage. \n",
        "null_1_pct = (df['lakids20share'].isnull().sum()) / len(df['lakids20share'])*100\n",
        "print(\"The percentage of null values in this variable is:\", round(null_1_pct, 1))\n",
        "\n",
        "# create boxplot of variable\n",
        "sns.boxplot(df['lakids20share'])"
      ],
      "execution_count": null,
      "outputs": [
        {
          "output_type": "stream",
          "text": [
            "The total number of null value is 72600\n",
            "The percentage of null values in this variable is: 98.0\n"
          ],
          "name": "stdout"
        },
        {
          "output_type": "stream",
          "text": [
            "/usr/local/lib/python3.7/dist-packages/seaborn/_decorators.py:43: FutureWarning: Pass the following variable as a keyword arg: x. From version 0.12, the only valid positional argument will be `data`, and passing other arguments without an explicit keyword will result in an error or misinterpretation.\n",
            "  FutureWarning\n"
          ],
          "name": "stderr"
        },
        {
          "output_type": "execute_result",
          "data": {
            "text/plain": [
              "<matplotlib.axes._subplots.AxesSubplot at 0x7f6fd027ae10>"
            ]
          },
          "metadata": {
            "tags": []
          },
          "execution_count": 56
        },
        {
          "output_type": "display_data",
          "data": {
            "image/png": "[encoded data removed]",
            "text/plain": [
              "<Figure size 432x288 with 1 Axes>"
            ]
          },
          "metadata": {
            "tags": [],
            "needs_background": "light"
          }
        }
      ]
    },
    {
      "cell_type": "code",
      "metadata": {
        "colab": {
          "base_uri": "https://localhost:8080/"
        },
        "id": "ky-J41GVL2hA",
        "outputId": "3522a995-debb-4505-ea17-8cc020ace5b4"
      },
      "source": [
        "df['lakids20share'].describe()"
      ],
      "execution_count": null,
      "outputs": [
        {
          "output_type": "execute_result",
          "data": {
            "text/plain": [
              "count    1506.000000\n",
              "mean        3.484555\n",
              "std         6.673009\n",
              "min         0.000000\n",
              "25%         0.010000\n",
              "50%         0.435000\n",
              "75%         3.275000\n",
              "max        37.030000\n",
              "Name: lakids20share, dtype: float64"
            ]
          },
          "metadata": {
            "tags": []
          },
          "execution_count": 57
        }
      ]
    },
    {
      "cell_type": "markdown",
      "metadata": {
        "id": "7b6y7_Pn4FWq"
      },
      "source": [
        "## **laseniors20 (142)**"
      ]
    },
    {
      "cell_type": "code",
      "metadata": {
        "colab": {
          "base_uri": "https://localhost:8080/",
          "height": 384
        },
        "id": "9PiANkiR4M7g",
        "outputId": "c48b94c0-1951-4771-e98e-f26af7ff4a5d"
      },
      "source": [
        "#categorical summary--null values\n",
        "null_1 = df['laseniors20'].isnull().sum()\n",
        "print('The total number of null value is', null_1)\n",
        "\n",
        "#percent null values\n",
        "#first part of the code below is the categorical summary code above - divided to make a percentage. \n",
        "null_1_pct = (df['laseniors20'].isnull().sum()) / len(df['laseniors20'])*100\n",
        "print(\"The percentage of null values in this variable is:\", round(null_1_pct, 1))\n",
        "\n",
        "# create boxplot of variable\n",
        "sns.boxplot(df['laseniors20'])"
      ],
      "execution_count": null,
      "outputs": [
        {
          "output_type": "stream",
          "text": [
            "The total number of null value is 72600\n",
            "The percentage of null values in this variable is: 98.0\n"
          ],
          "name": "stdout"
        },
        {
          "output_type": "stream",
          "text": [
            "/usr/local/lib/python3.7/dist-packages/seaborn/_decorators.py:43: FutureWarning: Pass the following variable as a keyword arg: x. From version 0.12, the only valid positional argument will be `data`, and passing other arguments without an explicit keyword will result in an error or misinterpretation.\n",
            "  FutureWarning\n"
          ],
          "name": "stderr"
        },
        {
          "output_type": "execute_result",
          "data": {
            "text/plain": [
              "<matplotlib.axes._subplots.AxesSubplot at 0x7f6fd07ceb10>"
            ]
          },
          "metadata": {
            "tags": []
          },
          "execution_count": 58
        },
        {
          "output_type": "display_data",
          "data": {
            "image/png": "[encoded data removed]",
            "text/plain": [
              "<Figure size 432x288 with 1 Axes>"
            ]
          },
          "metadata": {
            "tags": [],
            "needs_background": "light"
          }
        }
      ]
    },
    {
      "cell_type": "code",
      "metadata": {
        "colab": {
          "base_uri": "https://localhost:8080/"
        },
        "id": "pWqoQ6NBMM6d",
        "outputId": "4139dbb5-0ed7-4697-a3bd-f70b440b9fe9"
      },
      "source": [
        "df['laseniors20'].describe()"
      ],
      "execution_count": null,
      "outputs": [
        {
          "output_type": "execute_result",
          "data": {
            "text/plain": [
              "count    1506.000000\n",
              "mean       63.281541\n",
              "std       126.281457\n",
              "min         0.000000\n",
              "25%         0.000000\n",
              "50%        12.000000\n",
              "75%        73.000000\n",
              "max      2081.000000\n",
              "Name: laseniors20, dtype: float64"
            ]
          },
          "metadata": {
            "tags": []
          },
          "execution_count": 59
        }
      ]
    },
    {
      "cell_type": "markdown",
      "metadata": {
        "id": "c0CydLVw4Mwu"
      },
      "source": [
        "## **laseniors20share (143)**"
      ]
    },
    {
      "cell_type": "code",
      "metadata": {
        "colab": {
          "base_uri": "https://localhost:8080/",
          "height": 384
        },
        "id": "csF5YFa-4FeD",
        "outputId": "818b5a01-58a0-4ff9-e1be-283b86406803"
      },
      "source": [
        "#categorical summary--null values\n",
        "null_1 = df['laseniors20share'].isnull().sum()\n",
        "print('The total number of null value is', null_1)\n",
        "\n",
        "#percent null values\n",
        "#first part of the code below is the categorical summary code above - divided to make a percentage. \n",
        "null_1_pct = ((df['laseniors20share'].isnull().sum()) / len(df['laseniors20share']))*100\n",
        "print(\"The percentage of null values in this variable is:\", round(null_1_pct, 1))\n",
        "\n",
        "# create boxplot of variable\n",
        "sns.boxplot(df['laseniors20share'])"
      ],
      "execution_count": null,
      "outputs": [
        {
          "output_type": "stream",
          "text": [
            "The total number of null value is 72600\n",
            "The percentage of null values in this variable is: 98.0\n"
          ],
          "name": "stdout"
        },
        {
          "output_type": "stream",
          "text": [
            "/usr/local/lib/python3.7/dist-packages/seaborn/_decorators.py:43: FutureWarning: Pass the following variable as a keyword arg: x. From version 0.12, the only valid positional argument will be `data`, and passing other arguments without an explicit keyword will result in an error or misinterpretation.\n",
            "  FutureWarning\n"
          ],
          "name": "stderr"
        },
        {
          "output_type": "execute_result",
          "data": {
            "text/plain": [
              "<matplotlib.axes._subplots.AxesSubplot at 0x7f6fd01fd910>"
            ]
          },
          "metadata": {
            "tags": []
          },
          "execution_count": 62
        },
        {
          "output_type": "display_data",
          "data": {
            "image/png": "[encoded data removed]",
            "text/plain": [
              "<Figure size 432x288 with 1 Axes>"
            ]
          },
          "metadata": {
            "tags": [],
            "needs_background": "light"
          }
        }
      ]
    },
    {
      "cell_type": "code",
      "metadata": {
        "colab": {
          "base_uri": "https://localhost:8080/"
        },
        "id": "CjIS-shtMed8",
        "outputId": "0e82891e-55e3-4b5c-d9bf-fdf0b3b322c4"
      },
      "source": [
        "df['laseniors20share'].describe()"
      ],
      "execution_count": null,
      "outputs": [
        {
          "output_type": "execute_result",
          "data": {
            "text/plain": [
              "count    1506.000000\n",
              "mean        2.802357\n",
              "std         5.444614\n",
              "min         0.000000\n",
              "25%         0.010000\n",
              "50%         0.480000\n",
              "75%         2.650000\n",
              "max        52.080000\n",
              "Name: laseniors20share, dtype: float64"
            ]
          },
          "metadata": {
            "tags": []
          },
          "execution_count": 61
        }
      ]
    },
    {
      "cell_type": "markdown",
      "metadata": {
        "id": "O2Xs3ymc4Vto"
      },
      "source": [
        "## **lawhite20 (144)**"
      ]
    },
    {
      "cell_type": "code",
      "metadata": {
        "colab": {
          "base_uri": "https://localhost:8080/",
          "height": 384
        },
        "id": "N8COlyAY4V1w",
        "outputId": "c8a62c06-5983-435b-e3e6-b3f793b27b8b"
      },
      "source": [
        "#categorical summary--null values\n",
        "null_1 = df['lawhite20'].isnull().sum()\n",
        "print('The total number of null value is', null_1)\n",
        "\n",
        "#percent null values\n",
        "#first part of the code below is the categorical summary code above - divided to make a percentage. \n",
        "null_1_pct = ((df['lawhite20'].isnull().sum()) / len(df['lawhite20']))*100\n",
        "print(\"The percentage of null values in this variable is:\", round(null_1_pct, 1))\n",
        "\n",
        "# create boxplot of variable\n",
        "sns.boxplot(df['lawhite20'])"
      ],
      "execution_count": null,
      "outputs": [
        {
          "output_type": "stream",
          "text": [
            "The total number of null value is 72600\n",
            "The percentage of null values in this variable is: 98.0\n"
          ],
          "name": "stdout"
        },
        {
          "output_type": "stream",
          "text": [
            "/usr/local/lib/python3.7/dist-packages/seaborn/_decorators.py:43: FutureWarning: Pass the following variable as a keyword arg: x. From version 0.12, the only valid positional argument will be `data`, and passing other arguments without an explicit keyword will result in an error or misinterpretation.\n",
            "  FutureWarning\n"
          ],
          "name": "stderr"
        },
        {
          "output_type": "execute_result",
          "data": {
            "text/plain": [
              "<matplotlib.axes._subplots.AxesSubplot at 0x7f6fd0272f50>"
            ]
          },
          "metadata": {
            "tags": []
          },
          "execution_count": 63
        },
        {
          "output_type": "display_data",
          "data": {
            "image/png": "[encoded data removed]",
            "text/plain": [
              "<Figure size 432x288 with 1 Axes>"
            ]
          },
          "metadata": {
            "tags": [],
            "needs_background": "light"
          }
        }
      ]
    },
    {
      "cell_type": "code",
      "metadata": {
        "colab": {
          "base_uri": "https://localhost:8080/"
        },
        "id": "Te3oXykoNi_0",
        "outputId": "f0db530b-e37f-4adb-cc62-7da8f0edece4"
      },
      "source": [
        "df['lawhite20'].describe()"
      ],
      "execution_count": null,
      "outputs": [
        {
          "output_type": "execute_result",
          "data": {
            "text/plain": [
              "count    1506.000000\n",
              "mean      247.839309\n",
              "std       458.379489\n",
              "min         0.000000\n",
              "25%         2.000000\n",
              "50%        48.500000\n",
              "75%       271.500000\n",
              "max      5485.000000\n",
              "Name: lawhite20, dtype: float64"
            ]
          },
          "metadata": {
            "tags": []
          },
          "execution_count": 64
        }
      ]
    },
    {
      "cell_type": "markdown",
      "metadata": {
        "id": "Q2CMfL6N4bKu"
      },
      "source": [
        "## **lawhite20share (145)**"
      ]
    },
    {
      "cell_type": "code",
      "metadata": {
        "colab": {
          "base_uri": "https://localhost:8080/",
          "height": 384
        },
        "id": "F8BuIayS4bU1",
        "outputId": "a6401a21-a56c-4752-d768-4c02c1facb0e"
      },
      "source": [
        "#categorical summary--null values\n",
        "null_1 = df['lawhite20share'].isnull().sum()\n",
        "print('The total number of null value is', null_1)\n",
        "\n",
        "#percent null values\n",
        "#first part of the code below is the categorical summary code above - divided to make a percentage. \n",
        "null_1_pct = ((df['lawhite20share'].isnull().sum()) / len(df['lawhite20share']))*100\n",
        "print(\"The percentage of null values in this variable is:\", round(null_1_pct, 1))\n",
        "\n",
        "# create boxplot of variable\n",
        "sns.boxplot(df['lawhite20share'])"
      ],
      "execution_count": null,
      "outputs": [
        {
          "output_type": "stream",
          "text": [
            "The total number of null value is 72600\n",
            "The percentage of null values in this variable is: 98.0\n"
          ],
          "name": "stdout"
        },
        {
          "output_type": "stream",
          "text": [
            "/usr/local/lib/python3.7/dist-packages/seaborn/_decorators.py:43: FutureWarning: Pass the following variable as a keyword arg: x. From version 0.12, the only valid positional argument will be `data`, and passing other arguments without an explicit keyword will result in an error or misinterpretation.\n",
            "  FutureWarning\n"
          ],
          "name": "stderr"
        },
        {
          "output_type": "execute_result",
          "data": {
            "text/plain": [
              "<matplotlib.axes._subplots.AxesSubplot at 0x7f6fd0066f10>"
            ]
          },
          "metadata": {
            "tags": []
          },
          "execution_count": 65
        },
        {
          "output_type": "display_data",
          "data": {
            "image/png": "[encoded data removed]",
            "text/plain": [
              "<Figure size 432x288 with 1 Axes>"
            ]
          },
          "metadata": {
            "tags": [],
            "needs_background": "light"
          }
        }
      ]
    },
    {
      "cell_type": "code",
      "metadata": {
        "colab": {
          "base_uri": "https://localhost:8080/"
        },
        "id": "IvRPQtdcN01e",
        "outputId": "87b4703c-b89d-421d-c8d6-5035894da048"
      },
      "source": [
        "df['lawhite20share'].describe()"
      ],
      "execution_count": null,
      "outputs": [
        {
          "output_type": "execute_result",
          "data": {
            "text/plain": [
              "count    1506.000000\n",
              "mean       11.328533\n",
              "std        21.241907\n",
              "min         0.000000\n",
              "25%         0.072500\n",
              "50%         1.700000\n",
              "75%        10.362500\n",
              "max        99.150000\n",
              "Name: lawhite20share, dtype: float64"
            ]
          },
          "metadata": {
            "tags": []
          },
          "execution_count": 67
        }
      ]
    },
    {
      "cell_type": "markdown",
      "metadata": {
        "id": "_S9FZhDQ4zDF"
      },
      "source": [
        "## **lablack20 (146)**"
      ]
    },
    {
      "cell_type": "code",
      "metadata": {
        "colab": {
          "base_uri": "https://localhost:8080/",
          "height": 384
        },
        "id": "wXdME9fl41BX",
        "outputId": "a14df3b8-89a2-4da7-ca39-efecbab5434b"
      },
      "source": [
        "#categorical summary--null values\n",
        "null_1 = df['lablack20'].isnull().sum()\n",
        "print('The total number of null value is', null_1)\n",
        "\n",
        "#percent null values\n",
        "#first part of the code below is the categorical summary code above - divided to make a percentage. \n",
        "null_1_pct = ((df['lablack20'].isnull().sum()) / len(df['lablack20']))*100\n",
        "print(\"The percentage of null values in this variable is:\", round(null_1_pct, 1))\n",
        "\n",
        "# create boxplot of variable\n",
        "sns.boxplot(df['lablack20'])"
      ],
      "execution_count": null,
      "outputs": [
        {
          "output_type": "stream",
          "text": [
            "The total number of null value is 72600\n",
            "The percentage of null values in this variable is: 98.0\n"
          ],
          "name": "stdout"
        },
        {
          "output_type": "stream",
          "text": [
            "/usr/local/lib/python3.7/dist-packages/seaborn/_decorators.py:43: FutureWarning: Pass the following variable as a keyword arg: x. From version 0.12, the only valid positional argument will be `data`, and passing other arguments without an explicit keyword will result in an error or misinterpretation.\n",
            "  FutureWarning\n"
          ],
          "name": "stderr"
        },
        {
          "output_type": "execute_result",
          "data": {
            "text/plain": [
              "<matplotlib.axes._subplots.AxesSubplot at 0x7f6fcffe0c10>"
            ]
          },
          "metadata": {
            "tags": []
          },
          "execution_count": 68
        },
        {
          "output_type": "display_data",
          "data": {
            "image/png": "[encoded data removed]",
            "text/plain": [
              "<Figure size 432x288 with 1 Axes>"
            ]
          },
          "metadata": {
            "tags": [],
            "needs_background": "light"
          }
        }
      ]
    },
    {
      "cell_type": "code",
      "metadata": {
        "colab": {
          "base_uri": "https://localhost:8080/"
        },
        "id": "wdUNnWugOSNO",
        "outputId": "9e5a4618-8444-48df-b5b9-9ea6880bccb2"
      },
      "source": [
        "df['lablack20'].describe()"
      ],
      "execution_count": null,
      "outputs": [
        {
          "output_type": "execute_result",
          "data": {
            "text/plain": [
              "count    1506.000000\n",
              "mean        3.717131\n",
              "std        33.886497\n",
              "min         0.000000\n",
              "25%         0.000000\n",
              "50%         0.000000\n",
              "75%         1.000000\n",
              "max      1086.000000\n",
              "Name: lablack20, dtype: float64"
            ]
          },
          "metadata": {
            "tags": []
          },
          "execution_count": 69
        }
      ]
    },
    {
      "cell_type": "markdown",
      "metadata": {
        "id": "qM2MpQRw415A"
      },
      "source": [
        "## **lablack20share (147)**"
      ]
    },
    {
      "cell_type": "code",
      "metadata": {
        "colab": {
          "base_uri": "https://localhost:8080/",
          "height": 384
        },
        "id": "XnCZg8jl45j4",
        "outputId": "19835a0b-10fe-4b77-8981-8f151f549323"
      },
      "source": [
        "#categorical summary--null values\n",
        "null_1 = df['lablack20share'].isnull().sum()\n",
        "print('The total number of null value is', null_1)\n",
        "\n",
        "#percent null values\n",
        "#first part of the code below is the categorical summary code above - divided to make a percentage. \n",
        "null_1_pct = ((df['lablack20share'].isnull().sum()) / len(df['lablack20share']))*100\n",
        "print(\"The percentage of null values in this variable is:\", round(null_1_pct, 1))\n",
        "\n",
        "# create boxplot of variable\n",
        "sns.boxplot(df['lablack20share'])"
      ],
      "execution_count": null,
      "outputs": [
        {
          "output_type": "stream",
          "text": [
            "The total number of null value is 72600\n",
            "The percentage of null values in this variable is: 98.0\n"
          ],
          "name": "stdout"
        },
        {
          "output_type": "stream",
          "text": [
            "/usr/local/lib/python3.7/dist-packages/seaborn/_decorators.py:43: FutureWarning: Pass the following variable as a keyword arg: x. From version 0.12, the only valid positional argument will be `data`, and passing other arguments without an explicit keyword will result in an error or misinterpretation.\n",
            "  FutureWarning\n"
          ],
          "name": "stderr"
        },
        {
          "output_type": "execute_result",
          "data": {
            "text/plain": [
              "<matplotlib.axes._subplots.AxesSubplot at 0x7f6fcffc6b10>"
            ]
          },
          "metadata": {
            "tags": []
          },
          "execution_count": 70
        },
        {
          "output_type": "display_data",
          "data": {
            "image/png": "[encoded data removed]",
            "text/plain": [
              "<Figure size 432x288 with 1 Axes>"
            ]
          },
          "metadata": {
            "tags": [],
            "needs_background": "light"
          }
        }
      ]
    },
    {
      "cell_type": "code",
      "metadata": {
        "colab": {
          "base_uri": "https://localhost:8080/"
        },
        "id": "v3GXnjitOv_N",
        "outputId": "7e990ac9-32b1-4735-e3c3-0e9c918a80b6"
      },
      "source": [
        "df['lablack20share'].describe()"
      ],
      "execution_count": null,
      "outputs": [
        {
          "output_type": "execute_result",
          "data": {
            "text/plain": [
              "count    1506.000000\n",
              "mean        0.138612\n",
              "std         0.897988\n",
              "min         0.000000\n",
              "25%         0.000000\n",
              "50%         0.000000\n",
              "75%         0.020000\n",
              "max        20.410000\n",
              "Name: lablack20share, dtype: float64"
            ]
          },
          "metadata": {
            "tags": []
          },
          "execution_count": 71
        }
      ]
    },
    {
      "cell_type": "markdown",
      "metadata": {
        "id": "OhwyqkUH48cf"
      },
      "source": [
        "## **laasian20 (148)**"
      ]
    },
    {
      "cell_type": "code",
      "metadata": {
        "colab": {
          "base_uri": "https://localhost:8080/",
          "height": 384
        },
        "id": "C8opQWDt48m0",
        "outputId": "a683e097-cb34-4b06-97ac-86d1a78c50e4"
      },
      "source": [
        "#categorical summary--null values\n",
        "null_1 = df['laasian20'].isnull().sum()\n",
        "print('The total number of null value is', null_1)\n",
        "\n",
        "#percent null values\n",
        "#first part of the code below is the categorical summary code above - divided to make a percentage. \n",
        "null_1_pct = ((df['laasian20'].isnull().sum()) / len(df['laasian20']))*100\n",
        "print(\"The percentage of null values in this variable is:\", round(null_1_pct, 1))\n",
        "\n",
        "# create boxplot of variable\n",
        "sns.boxplot(df['laasian20'])"
      ],
      "execution_count": null,
      "outputs": [
        {
          "output_type": "stream",
          "text": [
            "The total number of null value is 72600\n",
            "The percentage of null values in this variable is: 98.0\n"
          ],
          "name": "stdout"
        },
        {
          "output_type": "stream",
          "text": [
            "/usr/local/lib/python3.7/dist-packages/seaborn/_decorators.py:43: FutureWarning: Pass the following variable as a keyword arg: x. From version 0.12, the only valid positional argument will be `data`, and passing other arguments without an explicit keyword will result in an error or misinterpretation.\n",
            "  FutureWarning\n"
          ],
          "name": "stderr"
        },
        {
          "output_type": "execute_result",
          "data": {
            "text/plain": [
              "<matplotlib.axes._subplots.AxesSubplot at 0x7f6fcff47ed0>"
            ]
          },
          "metadata": {
            "tags": []
          },
          "execution_count": 72
        },
        {
          "output_type": "display_data",
          "data": {
            "image/png": "[encoded data removed]",
            "text/plain": [
              "<Figure size 432x288 with 1 Axes>"
            ]
          },
          "metadata": {
            "tags": [],
            "needs_background": "light"
          }
        }
      ]
    },
    {
      "cell_type": "code",
      "metadata": {
        "colab": {
          "base_uri": "https://localhost:8080/"
        },
        "id": "Bwz4CEaAPDSN",
        "outputId": "5ad91fc5-4b6c-4b32-de83-002c828754e9"
      },
      "source": [
        "df['laasian20'].describe()"
      ],
      "execution_count": null,
      "outputs": [
        {
          "output_type": "execute_result",
          "data": {
            "text/plain": [
              "count    1506.000000\n",
              "mean        2.205843\n",
              "std        17.634762\n",
              "min         0.000000\n",
              "25%         0.000000\n",
              "50%         0.000000\n",
              "75%         1.000000\n",
              "max       447.000000\n",
              "Name: laasian20, dtype: float64"
            ]
          },
          "metadata": {
            "tags": []
          },
          "execution_count": 73
        }
      ]
    },
    {
      "cell_type": "markdown",
      "metadata": {
        "id": "Yo3hWNmF5Ffa"
      },
      "source": [
        "## **laasian20share (149)**"
      ]
    },
    {
      "cell_type": "code",
      "metadata": {
        "colab": {
          "base_uri": "https://localhost:8080/",
          "height": 384
        },
        "id": "JUyrGOw78_hm",
        "outputId": "2289cf80-7e27-48a7-eb34-9ef601406ab8"
      },
      "source": [
        "#categorical summary--null values\n",
        "null_1 = df['laasian20share'].isnull().sum()\n",
        "print('The total number of null value is', null_1)\n",
        "\n",
        "#percent null values\n",
        "#first part of the code below is the categorical summary code above - divided to make a percentage. \n",
        "null_1_pct = ((df['laasian20share'].isnull().sum()) / len(df['laasian20share']))*100\n",
        "print(\"The percentage of null values in this variable is:\", round(null_1_pct, 1))\n",
        "\n",
        "# create boxplot of variable\n",
        "sns.boxplot(df['laasian20share'])"
      ],
      "execution_count": null,
      "outputs": [
        {
          "output_type": "stream",
          "text": [
            "The total number of null value is 72600\n",
            "The percentage of null values in this variable is: 98.0\n"
          ],
          "name": "stdout"
        },
        {
          "output_type": "stream",
          "text": [
            "/usr/local/lib/python3.7/dist-packages/seaborn/_decorators.py:43: FutureWarning: Pass the following variable as a keyword arg: x. From version 0.12, the only valid positional argument will be `data`, and passing other arguments without an explicit keyword will result in an error or misinterpretation.\n",
            "  FutureWarning\n"
          ],
          "name": "stderr"
        },
        {
          "output_type": "execute_result",
          "data": {
            "text/plain": [
              "<matplotlib.axes._subplots.AxesSubplot at 0x7f6fcff012d0>"
            ]
          },
          "metadata": {
            "tags": []
          },
          "execution_count": 74
        },
        {
          "output_type": "display_data",
          "data": {
            "image/png": "[encoded data removed]",
            "text/plain": [
              "<Figure size 432x288 with 1 Axes>"
            ]
          },
          "metadata": {
            "tags": [],
            "needs_background": "light"
          }
        }
      ]
    },
    {
      "cell_type": "code",
      "metadata": {
        "colab": {
          "base_uri": "https://localhost:8080/"
        },
        "id": "AHwGPd7oPV-O",
        "outputId": "d5612ef8-1363-47b1-e47b-87ab3121e58d"
      },
      "source": [
        "df['laasian20share'].describe()"
      ],
      "execution_count": null,
      "outputs": [
        {
          "output_type": "execute_result",
          "data": {
            "text/plain": [
              "count    1506.000000\n",
              "mean        0.087550\n",
              "std         0.622998\n",
              "min         0.000000\n",
              "25%         0.000000\n",
              "50%         0.000000\n",
              "75%         0.030000\n",
              "max        15.020000\n",
              "Name: laasian20share, dtype: float64"
            ]
          },
          "metadata": {
            "tags": []
          },
          "execution_count": 75
        }
      ]
    }
  ]
}